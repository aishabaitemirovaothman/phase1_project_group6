{
 "cells": [
  {
   "cell_type": "markdown",
   "metadata": {},
   "source": [
    "## Final Project Submission\n",
    "\n",
    "Please fill out:\n",
    "* Student name: \n",
    "* Student pace: self paced / part time / full time\n",
    "* Scheduled project review date/time: \n",
    "* Instructor name: \n",
    "* Blog post URL:\n"
   ]
  },
  {
   "cell_type": "code",
   "execution_count": 1,
   "metadata": {},
   "outputs": [],
   "source": [
    "# Your code here - remember to use markdown cells for comments as well!\n"
   ]
  },
  {
   "cell_type": "code",
   "execution_count": 2,
   "metadata": {},
   "outputs": [],
   "source": [
    "import numpy as np\n",
    "import pandas as pd\n",
    "import matplotlib.pyplot as plt\n",
    "%matplotlib inline\n",
    "plt.style.use('seaborn-dark-palette')\n",
    "title_ratings = pd.read_csv('data/imdb.title.ratings.csv.gz')\n",
    "title_basics = pd.read_csv('data/imdb.title.basics.csv.gz')\n",
    "title_akas = pd.read_csv('data/imdb.title.akas.csv.gz')"
   ]
  },
  {
   "cell_type": "code",
   "execution_count": 3,
   "metadata": {},
   "outputs": [],
   "source": [
    "#setting index for joining\n",
    "title_ratings.set_index('tconst', inplace = True)"
   ]
  },
  {
   "cell_type": "code",
   "execution_count": 4,
   "metadata": {},
   "outputs": [],
   "source": [
    "#setting index for joing\n",
    "title_basics.set_index('tconst', inplace =True)"
   ]
  },
  {
   "cell_type": "code",
   "execution_count": 5,
   "metadata": {},
   "outputs": [],
   "source": [
    "#renamed title_id to tconst to join this data frame into our main data frame\n",
    "title_akas.rename(columns={'title_id':'tconst'}, inplace=True)\n",
    "title_akas.set_index('tconst', inplace=True)"
   ]
  },
  {
   "cell_type": "code",
   "execution_count": 6,
   "metadata": {},
   "outputs": [],
   "source": [
    "#completed first join between title_ratings and title_basics\n",
    "merged1 = title_ratings.join(title_basics, on='tconst', how='inner')"
   ]
  },
  {
   "cell_type": "code",
   "execution_count": 7,
   "metadata": {},
   "outputs": [],
   "source": [
    "#completed second join between the above result and title_akas\n",
    "imdb_data = merged1.join(title_akas, on='tconst', how='inner')"
   ]
  },
  {
   "cell_type": "code",
   "execution_count": 8,
   "metadata": {},
   "outputs": [],
   "source": [
    "#Since there are lots of missing data and irrelevant data, the data is filtered with only US region\n",
    "imdb_US_movie = imdb_data[imdb_data['region'] == 'US'].copy()"
   ]
  },
  {
   "cell_type": "code",
   "execution_count": 9,
   "metadata": {},
   "outputs": [],
   "source": [
    "#sorted in descending order\n",
    "imdb_US_movie = imdb_US_movie.sort_values(by=['numvotes'], ascending=False).copy()"
   ]
  },
  {
   "cell_type": "code",
   "execution_count": 10,
   "metadata": {},
   "outputs": [],
   "source": [
    "#dropped all the duplicate titles from the dataframe\n",
    "imdb_US_movie = imdb_US_movie.drop_duplicates(subset=['original_title'], keep ='first').copy()"
   ]
  },
  {
   "cell_type": "code",
   "execution_count": 11,
   "metadata": {},
   "outputs": [
    {
     "data": {
      "text/html": [
       "<div>\n",
       "<style scoped>\n",
       "    .dataframe tbody tr th:only-of-type {\n",
       "        vertical-align: middle;\n",
       "    }\n",
       "\n",
       "    .dataframe tbody tr th {\n",
       "        vertical-align: top;\n",
       "    }\n",
       "\n",
       "    .dataframe thead th {\n",
       "        text-align: right;\n",
       "    }\n",
       "</style>\n",
       "<table border=\"1\" class=\"dataframe\">\n",
       "  <thead>\n",
       "    <tr style=\"text-align: right;\">\n",
       "      <th></th>\n",
       "      <th>averagerating</th>\n",
       "      <th>numvotes</th>\n",
       "      <th>start_year</th>\n",
       "      <th>runtime_minutes</th>\n",
       "      <th>genres</th>\n",
       "    </tr>\n",
       "    <tr>\n",
       "      <th>primary_title</th>\n",
       "      <th></th>\n",
       "      <th></th>\n",
       "      <th></th>\n",
       "      <th></th>\n",
       "      <th></th>\n",
       "    </tr>\n",
       "  </thead>\n",
       "  <tbody>\n",
       "    <tr>\n",
       "      <th>Inception</th>\n",
       "      <td>8.8</td>\n",
       "      <td>1841066</td>\n",
       "      <td>2010</td>\n",
       "      <td>148.0</td>\n",
       "      <td>Action,Adventure,Sci-Fi</td>\n",
       "    </tr>\n",
       "    <tr>\n",
       "      <th>The Dark Knight Rises</th>\n",
       "      <td>8.4</td>\n",
       "      <td>1387769</td>\n",
       "      <td>2012</td>\n",
       "      <td>164.0</td>\n",
       "      <td>Action,Thriller</td>\n",
       "    </tr>\n",
       "    <tr>\n",
       "      <th>Interstellar</th>\n",
       "      <td>8.6</td>\n",
       "      <td>1299334</td>\n",
       "      <td>2014</td>\n",
       "      <td>169.0</td>\n",
       "      <td>Adventure,Drama,Sci-Fi</td>\n",
       "    </tr>\n",
       "    <tr>\n",
       "      <th>Django Unchained</th>\n",
       "      <td>8.4</td>\n",
       "      <td>1211405</td>\n",
       "      <td>2012</td>\n",
       "      <td>165.0</td>\n",
       "      <td>Drama,Western</td>\n",
       "    </tr>\n",
       "    <tr>\n",
       "      <th>The Avengers</th>\n",
       "      <td>8.1</td>\n",
       "      <td>1183655</td>\n",
       "      <td>2012</td>\n",
       "      <td>143.0</td>\n",
       "      <td>Action,Adventure,Sci-Fi</td>\n",
       "    </tr>\n",
       "  </tbody>\n",
       "</table>\n",
       "</div>"
      ],
      "text/plain": [
       "                       averagerating  numvotes  start_year  runtime_minutes  \\\n",
       "primary_title                                                                 \n",
       "Inception                        8.8   1841066        2010            148.0   \n",
       "The Dark Knight Rises            8.4   1387769        2012            164.0   \n",
       "Interstellar                     8.6   1299334        2014            169.0   \n",
       "Django Unchained                 8.4   1211405        2012            165.0   \n",
       "The Avengers                     8.1   1183655        2012            143.0   \n",
       "\n",
       "                                        genres  \n",
       "primary_title                                   \n",
       "Inception              Action,Adventure,Sci-Fi  \n",
       "The Dark Knight Rises          Action,Thriller  \n",
       "Interstellar            Adventure,Drama,Sci-Fi  \n",
       "Django Unchained                 Drama,Western  \n",
       "The Avengers           Action,Adventure,Sci-Fi  "
      ]
     },
     "execution_count": 11,
     "metadata": {},
     "output_type": "execute_result"
    }
   ],
   "source": [
    "#filtered out relevant columns in our dataframe\n",
    "#setting the index to title\n",
    "imdb_US_movie = imdb_US_movie.set_index('primary_title').copy()\n",
    "imdb_US_movie = imdb_US_movie[['averagerating', 'numvotes', 'start_year', 'runtime_minutes', 'genres']].copy()\n",
    "imdb_US_movie.head()"
   ]
  },
  {
   "cell_type": "code",
   "execution_count": 12,
   "metadata": {},
   "outputs": [
    {
     "name": "stdout",
     "output_type": "stream",
     "text": [
      "mean is 8626.783681653427 and median is 67.0\n"
     ]
    }
   ],
   "source": [
    "#the mean vote counts is significantly larger than the median.\n",
    "#This means the data is extremely skewed right.\n",
    "#Since we don't want to know movies with small number of votes, we will only consider top 10 percent of this data\n",
    "mean = imdb_US_movie['numvotes'].mean()\n",
    "median = imdb_US_movie['numvotes'].median()\n",
    "print(f'mean is {mean} and median is {median}')"
   ]
  },
  {
   "cell_type": "code",
   "execution_count": 13,
   "metadata": {},
   "outputs": [
    {
     "name": "stdout",
     "output_type": "stream",
     "text": [
      "top 10 percentile: 5795\n",
      "top 1 percentile: 223993\n"
     ]
    }
   ],
   "source": [
    "#10 and 1 percentile of vote counts\n",
    "ten_percentile = imdb_US_movie['numvotes'].quantile(.90)\n",
    "one_percentile = imdb_US_movie['numvotes'].quantile(.99)\n",
    "\n",
    "print(\"top 10 percentile:\", round(ten_percentile))\n",
    "print(\"top 1 percentile:\", round(one_percentile))"
   ]
  },
  {
   "cell_type": "code",
   "execution_count": 14,
   "metadata": {},
   "outputs": [],
   "source": [
    "#movies filtered based on the vote counts percentile\n",
    "top_10_percent = imdb_US_movie[(imdb_US_movie['numvotes']>=5795)].reset_index().copy()\n",
    "top_1_percent = imdb_US_movie[(imdb_US_movie['numvotes']>=223993)].reset_index().copy()"
   ]
  },
  {
   "cell_type": "code",
   "execution_count": 15,
   "metadata": {},
   "outputs": [
    {
     "data": {
      "text/html": [
       "<div>\n",
       "<style scoped>\n",
       "    .dataframe tbody tr th:only-of-type {\n",
       "        vertical-align: middle;\n",
       "    }\n",
       "\n",
       "    .dataframe tbody tr th {\n",
       "        vertical-align: top;\n",
       "    }\n",
       "\n",
       "    .dataframe thead th {\n",
       "        text-align: right;\n",
       "    }\n",
       "</style>\n",
       "<table border=\"1\" class=\"dataframe\">\n",
       "  <thead>\n",
       "    <tr style=\"text-align: right;\">\n",
       "      <th></th>\n",
       "      <th>primary_title</th>\n",
       "      <th>averagerating</th>\n",
       "      <th>numvotes</th>\n",
       "      <th>start_year</th>\n",
       "      <th>runtime_minutes</th>\n",
       "      <th>genres</th>\n",
       "    </tr>\n",
       "  </thead>\n",
       "  <tbody>\n",
       "    <tr>\n",
       "      <th>0</th>\n",
       "      <td>Inception</td>\n",
       "      <td>8.8</td>\n",
       "      <td>1841066</td>\n",
       "      <td>2010</td>\n",
       "      <td>148.0</td>\n",
       "      <td>Action</td>\n",
       "    </tr>\n",
       "    <tr>\n",
       "      <th>0</th>\n",
       "      <td>Inception</td>\n",
       "      <td>8.8</td>\n",
       "      <td>1841066</td>\n",
       "      <td>2010</td>\n",
       "      <td>148.0</td>\n",
       "      <td>Adventure</td>\n",
       "    </tr>\n",
       "    <tr>\n",
       "      <th>0</th>\n",
       "      <td>Inception</td>\n",
       "      <td>8.8</td>\n",
       "      <td>1841066</td>\n",
       "      <td>2010</td>\n",
       "      <td>148.0</td>\n",
       "      <td>Sci-Fi</td>\n",
       "    </tr>\n",
       "    <tr>\n",
       "      <th>1</th>\n",
       "      <td>The Dark Knight Rises</td>\n",
       "      <td>8.4</td>\n",
       "      <td>1387769</td>\n",
       "      <td>2012</td>\n",
       "      <td>164.0</td>\n",
       "      <td>Action</td>\n",
       "    </tr>\n",
       "    <tr>\n",
       "      <th>1</th>\n",
       "      <td>The Dark Knight Rises</td>\n",
       "      <td>8.4</td>\n",
       "      <td>1387769</td>\n",
       "      <td>2012</td>\n",
       "      <td>164.0</td>\n",
       "      <td>Thriller</td>\n",
       "    </tr>\n",
       "    <tr>\n",
       "      <th>2</th>\n",
       "      <td>Interstellar</td>\n",
       "      <td>8.6</td>\n",
       "      <td>1299334</td>\n",
       "      <td>2014</td>\n",
       "      <td>169.0</td>\n",
       "      <td>Adventure</td>\n",
       "    </tr>\n",
       "    <tr>\n",
       "      <th>2</th>\n",
       "      <td>Interstellar</td>\n",
       "      <td>8.6</td>\n",
       "      <td>1299334</td>\n",
       "      <td>2014</td>\n",
       "      <td>169.0</td>\n",
       "      <td>Drama</td>\n",
       "    </tr>\n",
       "    <tr>\n",
       "      <th>2</th>\n",
       "      <td>Interstellar</td>\n",
       "      <td>8.6</td>\n",
       "      <td>1299334</td>\n",
       "      <td>2014</td>\n",
       "      <td>169.0</td>\n",
       "      <td>Sci-Fi</td>\n",
       "    </tr>\n",
       "    <tr>\n",
       "      <th>3</th>\n",
       "      <td>Django Unchained</td>\n",
       "      <td>8.4</td>\n",
       "      <td>1211405</td>\n",
       "      <td>2012</td>\n",
       "      <td>165.0</td>\n",
       "      <td>Drama</td>\n",
       "    </tr>\n",
       "    <tr>\n",
       "      <th>3</th>\n",
       "      <td>Django Unchained</td>\n",
       "      <td>8.4</td>\n",
       "      <td>1211405</td>\n",
       "      <td>2012</td>\n",
       "      <td>165.0</td>\n",
       "      <td>Western</td>\n",
       "    </tr>\n",
       "  </tbody>\n",
       "</table>\n",
       "</div>"
      ],
      "text/plain": [
       "           primary_title  averagerating  numvotes  start_year  \\\n",
       "0              Inception            8.8   1841066        2010   \n",
       "0              Inception            8.8   1841066        2010   \n",
       "0              Inception            8.8   1841066        2010   \n",
       "1  The Dark Knight Rises            8.4   1387769        2012   \n",
       "1  The Dark Knight Rises            8.4   1387769        2012   \n",
       "2           Interstellar            8.6   1299334        2014   \n",
       "2           Interstellar            8.6   1299334        2014   \n",
       "2           Interstellar            8.6   1299334        2014   \n",
       "3       Django Unchained            8.4   1211405        2012   \n",
       "3       Django Unchained            8.4   1211405        2012   \n",
       "\n",
       "   runtime_minutes     genres  \n",
       "0            148.0     Action  \n",
       "0            148.0  Adventure  \n",
       "0            148.0     Sci-Fi  \n",
       "1            164.0     Action  \n",
       "1            164.0   Thriller  \n",
       "2            169.0  Adventure  \n",
       "2            169.0      Drama  \n",
       "2            169.0     Sci-Fi  \n",
       "3            165.0      Drama  \n",
       "3            165.0    Western  "
      ]
     },
     "execution_count": 15,
     "metadata": {},
     "output_type": "execute_result"
    }
   ],
   "source": [
    "#divided up multiple genres for a single movie into a separate row\n",
    "top_10_percent.loc[:,('genres')] = top_10_percent.loc[:,('genres')].str.split(',')\n",
    "top_10 = top_10_percent.explode('genres')\n",
    "top_10.head(10)"
   ]
  },
  {
   "cell_type": "code",
   "execution_count": 16,
   "metadata": {},
   "outputs": [
    {
     "data": {
      "text/html": [
       "<div>\n",
       "<style scoped>\n",
       "    .dataframe tbody tr th:only-of-type {\n",
       "        vertical-align: middle;\n",
       "    }\n",
       "\n",
       "    .dataframe tbody tr th {\n",
       "        vertical-align: top;\n",
       "    }\n",
       "\n",
       "    .dataframe thead th {\n",
       "        text-align: right;\n",
       "    }\n",
       "</style>\n",
       "<table border=\"1\" class=\"dataframe\">\n",
       "  <thead>\n",
       "    <tr style=\"text-align: right;\">\n",
       "      <th></th>\n",
       "      <th>primary_title</th>\n",
       "      <th>averagerating</th>\n",
       "      <th>numvotes</th>\n",
       "      <th>start_year</th>\n",
       "      <th>runtime_minutes</th>\n",
       "      <th>genres</th>\n",
       "      <th>indication</th>\n",
       "    </tr>\n",
       "  </thead>\n",
       "  <tbody>\n",
       "    <tr>\n",
       "      <th>2</th>\n",
       "      <td>Interstellar</td>\n",
       "      <td>8.6</td>\n",
       "      <td>1299334</td>\n",
       "      <td>2014</td>\n",
       "      <td>169.0</td>\n",
       "      <td>[Adventure, Drama, Sci-Fi]</td>\n",
       "      <td>check</td>\n",
       "    </tr>\n",
       "    <tr>\n",
       "      <th>16</th>\n",
       "      <td>Harry Potter and the Deathly Hallows: Part 2</td>\n",
       "      <td>8.1</td>\n",
       "      <td>691835</td>\n",
       "      <td>2011</td>\n",
       "      <td>130.0</td>\n",
       "      <td>[Adventure, Drama, Fantasy]</td>\n",
       "      <td>check</td>\n",
       "    </tr>\n",
       "    <tr>\n",
       "      <th>19</th>\n",
       "      <td>The Martian</td>\n",
       "      <td>8.0</td>\n",
       "      <td>680116</td>\n",
       "      <td>2015</td>\n",
       "      <td>144.0</td>\n",
       "      <td>[Adventure, Drama, Sci-Fi]</td>\n",
       "      <td>check</td>\n",
       "    </tr>\n",
       "    <tr>\n",
       "      <th>44</th>\n",
       "      <td>Logan</td>\n",
       "      <td>8.1</td>\n",
       "      <td>560270</td>\n",
       "      <td>2017</td>\n",
       "      <td>137.0</td>\n",
       "      <td>[Action, Drama, Sci-Fi]</td>\n",
       "      <td>check</td>\n",
       "    </tr>\n",
       "    <tr>\n",
       "      <th>54</th>\n",
       "      <td>Life of Pi</td>\n",
       "      <td>7.9</td>\n",
       "      <td>535836</td>\n",
       "      <td>2012</td>\n",
       "      <td>127.0</td>\n",
       "      <td>[Adventure, Drama, Fantasy]</td>\n",
       "      <td>check</td>\n",
       "    </tr>\n",
       "  </tbody>\n",
       "</table>\n",
       "</div>"
      ],
      "text/plain": [
       "                                   primary_title  averagerating  numvotes  \\\n",
       "2                                   Interstellar            8.6   1299334   \n",
       "16  Harry Potter and the Deathly Hallows: Part 2            8.1    691835   \n",
       "19                                   The Martian            8.0    680116   \n",
       "44                                         Logan            8.1    560270   \n",
       "54                                    Life of Pi            7.9    535836   \n",
       "\n",
       "    start_year  runtime_minutes                       genres indication  \n",
       "2         2014            169.0   [Adventure, Drama, Sci-Fi]      check  \n",
       "16        2011            130.0  [Adventure, Drama, Fantasy]      check  \n",
       "19        2015            144.0   [Adventure, Drama, Sci-Fi]      check  \n",
       "44        2017            137.0      [Action, Drama, Sci-Fi]      check  \n",
       "54        2012            127.0  [Adventure, Drama, Fantasy]      check  "
      ]
     },
     "execution_count": 16,
     "metadata": {},
     "output_type": "execute_result"
    }
   ],
   "source": [
    "df_drama = top_10_percent.copy()\n",
    "df_drama['indication'] = df_drama['genres'].apply(lambda x: \"check\" if ((\"Drama\" in x and \"Adventure\" in x) or \n",
    "                                                            (\"Drama\" in x and \"Action\" in x))  else \"NA\")\n",
    "df_drama = df_drama[df_drama['indication'] == \"check\"]\n",
    "df_drama.head()"
   ]
  },
  {
   "cell_type": "code",
   "execution_count": 17,
   "metadata": {},
   "outputs": [
    {
     "data": {
      "text/html": [
       "<div>\n",
       "<style scoped>\n",
       "    .dataframe tbody tr th:only-of-type {\n",
       "        vertical-align: middle;\n",
       "    }\n",
       "\n",
       "    .dataframe tbody tr th {\n",
       "        vertical-align: top;\n",
       "    }\n",
       "\n",
       "    .dataframe thead th {\n",
       "        text-align: right;\n",
       "    }\n",
       "</style>\n",
       "<table border=\"1\" class=\"dataframe\">\n",
       "  <thead>\n",
       "    <tr style=\"text-align: right;\">\n",
       "      <th></th>\n",
       "      <th>primary_title</th>\n",
       "      <th>averagerating</th>\n",
       "      <th>numvotes</th>\n",
       "      <th>start_year</th>\n",
       "      <th>runtime_minutes</th>\n",
       "      <th>genres</th>\n",
       "      <th>indication</th>\n",
       "    </tr>\n",
       "  </thead>\n",
       "  <tbody>\n",
       "    <tr>\n",
       "      <th>0</th>\n",
       "      <td>Inception</td>\n",
       "      <td>8.8</td>\n",
       "      <td>1841066</td>\n",
       "      <td>2010</td>\n",
       "      <td>148.0</td>\n",
       "      <td>[Action, Adventure, Sci-Fi]</td>\n",
       "      <td>check</td>\n",
       "    </tr>\n",
       "    <tr>\n",
       "      <th>4</th>\n",
       "      <td>The Avengers</td>\n",
       "      <td>8.1</td>\n",
       "      <td>1183655</td>\n",
       "      <td>2012</td>\n",
       "      <td>143.0</td>\n",
       "      <td>[Action, Adventure, Sci-Fi]</td>\n",
       "      <td>check</td>\n",
       "    </tr>\n",
       "    <tr>\n",
       "      <th>9</th>\n",
       "      <td>The Hunger Games</td>\n",
       "      <td>7.2</td>\n",
       "      <td>795227</td>\n",
       "      <td>2012</td>\n",
       "      <td>142.0</td>\n",
       "      <td>[Action, Adventure, Sci-Fi]</td>\n",
       "      <td>check</td>\n",
       "    </tr>\n",
       "    <tr>\n",
       "      <th>11</th>\n",
       "      <td>Mad Max: Fury Road</td>\n",
       "      <td>8.1</td>\n",
       "      <td>780910</td>\n",
       "      <td>2015</td>\n",
       "      <td>120.0</td>\n",
       "      <td>[Action, Adventure, Sci-Fi]</td>\n",
       "      <td>check</td>\n",
       "    </tr>\n",
       "    <tr>\n",
       "      <th>15</th>\n",
       "      <td>Iron Man 3</td>\n",
       "      <td>7.2</td>\n",
       "      <td>692794</td>\n",
       "      <td>2013</td>\n",
       "      <td>130.0</td>\n",
       "      <td>[Action, Adventure, Sci-Fi]</td>\n",
       "      <td>check</td>\n",
       "    </tr>\n",
       "  </tbody>\n",
       "</table>\n",
       "</div>"
      ],
      "text/plain": [
       "         primary_title  averagerating  numvotes  start_year  runtime_minutes  \\\n",
       "0            Inception            8.8   1841066        2010            148.0   \n",
       "4         The Avengers            8.1   1183655        2012            143.0   \n",
       "9     The Hunger Games            7.2    795227        2012            142.0   \n",
       "11  Mad Max: Fury Road            8.1    780910        2015            120.0   \n",
       "15          Iron Man 3            7.2    692794        2013            130.0   \n",
       "\n",
       "                         genres indication  \n",
       "0   [Action, Adventure, Sci-Fi]      check  \n",
       "4   [Action, Adventure, Sci-Fi]      check  \n",
       "9   [Action, Adventure, Sci-Fi]      check  \n",
       "11  [Action, Adventure, Sci-Fi]      check  \n",
       "15  [Action, Adventure, Sci-Fi]      check  "
      ]
     },
     "execution_count": 17,
     "metadata": {},
     "output_type": "execute_result"
    }
   ],
   "source": [
    "df_scifi= top_10_percent.copy()\n",
    "df_scifi['indication'] = df_scifi['genres'].apply(lambda x: \"check\" if (\"Sci-Fi\" in x and \"Action\" in x) else \"NA\")\n",
    "df_scifi = df_scifi[df_scifi['indication'] == \"check\"]\n",
    "df_scifi.head()"
   ]
  },
  {
   "cell_type": "code",
   "execution_count": 18,
   "metadata": {
    "scrolled": true
   },
   "outputs": [
    {
     "data": {
      "text/html": [
       "<div>\n",
       "<style scoped>\n",
       "    .dataframe tbody tr th:only-of-type {\n",
       "        vertical-align: middle;\n",
       "    }\n",
       "\n",
       "    .dataframe tbody tr th {\n",
       "        vertical-align: top;\n",
       "    }\n",
       "\n",
       "    .dataframe thead th {\n",
       "        text-align: right;\n",
       "    }\n",
       "</style>\n",
       "<table border=\"1\" class=\"dataframe\">\n",
       "  <thead>\n",
       "    <tr style=\"text-align: right;\">\n",
       "      <th></th>\n",
       "      <th>genres</th>\n",
       "    </tr>\n",
       "  </thead>\n",
       "  <tbody>\n",
       "    <tr>\n",
       "      <th>Drama</th>\n",
       "      <td>1356</td>\n",
       "    </tr>\n",
       "    <tr>\n",
       "      <th>Comedy</th>\n",
       "      <td>898</td>\n",
       "    </tr>\n",
       "    <tr>\n",
       "      <th>Action</th>\n",
       "      <td>694</td>\n",
       "    </tr>\n",
       "    <tr>\n",
       "      <th>Thriller</th>\n",
       "      <td>497</td>\n",
       "    </tr>\n",
       "    <tr>\n",
       "      <th>Adventure</th>\n",
       "      <td>475</td>\n",
       "    </tr>\n",
       "  </tbody>\n",
       "</table>\n",
       "</div>"
      ],
      "text/plain": [
       "           genres\n",
       "Drama        1356\n",
       "Comedy        898\n",
       "Action        694\n",
       "Thriller      497\n",
       "Adventure     475"
      ]
     },
     "execution_count": 18,
     "metadata": {},
     "output_type": "execute_result"
    }
   ],
   "source": [
    "#number of movies within each genres for the top 10 percent vote counts of the movies\n",
    "genres_count_10percent = pd.DataFrame(top_10['genres'].value_counts())\n",
    "genres_count_10percent = genres_count_10percent.head()\n",
    "genres_count_10percent"
   ]
  },
  {
   "cell_type": "code",
   "execution_count": 19,
   "metadata": {},
   "outputs": [
    {
     "data": {
      "text/html": [
       "<div>\n",
       "<style scoped>\n",
       "    .dataframe tbody tr th:only-of-type {\n",
       "        vertical-align: middle;\n",
       "    }\n",
       "\n",
       "    .dataframe tbody tr th {\n",
       "        vertical-align: top;\n",
       "    }\n",
       "\n",
       "    .dataframe thead th {\n",
       "        text-align: right;\n",
       "    }\n",
       "</style>\n",
       "<table border=\"1\" class=\"dataframe\">\n",
       "  <thead>\n",
       "    <tr style=\"text-align: right;\">\n",
       "      <th></th>\n",
       "      <th>numvotes</th>\n",
       "    </tr>\n",
       "    <tr>\n",
       "      <th>genres</th>\n",
       "      <th></th>\n",
       "    </tr>\n",
       "  </thead>\n",
       "  <tbody>\n",
       "    <tr>\n",
       "      <th>Adventure</th>\n",
       "      <td>169220.597895</td>\n",
       "    </tr>\n",
       "    <tr>\n",
       "      <th>Action</th>\n",
       "      <td>131380.325648</td>\n",
       "    </tr>\n",
       "    <tr>\n",
       "      <th>Thriller</th>\n",
       "      <td>78318.523139</td>\n",
       "    </tr>\n",
       "    <tr>\n",
       "      <th>Comedy</th>\n",
       "      <td>68912.766147</td>\n",
       "    </tr>\n",
       "    <tr>\n",
       "      <th>Drama</th>\n",
       "      <td>68484.173304</td>\n",
       "    </tr>\n",
       "  </tbody>\n",
       "</table>\n",
       "</div>"
      ],
      "text/plain": [
       "                numvotes\n",
       "genres                  \n",
       "Adventure  169220.597895\n",
       "Action     131380.325648\n",
       "Thriller    78318.523139\n",
       "Comedy      68912.766147\n",
       "Drama       68484.173304"
      ]
     },
     "execution_count": 19,
     "metadata": {},
     "output_type": "execute_result"
    }
   ],
   "source": [
    "#average_ratings_by_genre = \n",
    "genres_avgvotes_10 = pd.DataFrame(top_10.groupby('genres')['numvotes'].mean().sort_values(ascending=False))\n",
    "genres_avgvotes_10 = genres_avgvotes_10.reset_index()\n",
    "genres_avgvotes_10 = genres_avgvotes_10[genres_avgvotes_10['genres'].isin(['Drama','Comedy','Action','Thriller','Adventure'])]\n",
    "genres_avgvotes_10.set_index('genres', inplace=True)\n",
    "genres_avgvotes_10"
   ]
  },
  {
   "cell_type": "code",
   "execution_count": 20,
   "metadata": {},
   "outputs": [
    {
     "data": {
      "text/html": [
       "<div>\n",
       "<style scoped>\n",
       "    .dataframe tbody tr th:only-of-type {\n",
       "        vertical-align: middle;\n",
       "    }\n",
       "\n",
       "    .dataframe tbody tr th {\n",
       "        vertical-align: top;\n",
       "    }\n",
       "\n",
       "    .dataframe thead th {\n",
       "        text-align: right;\n",
       "    }\n",
       "</style>\n",
       "<table border=\"1\" class=\"dataframe\">\n",
       "  <thead>\n",
       "    <tr style=\"text-align: right;\">\n",
       "      <th></th>\n",
       "      <th>number of movies</th>\n",
       "      <th>numvotes</th>\n",
       "    </tr>\n",
       "  </thead>\n",
       "  <tbody>\n",
       "    <tr>\n",
       "      <th>Drama</th>\n",
       "      <td>1356</td>\n",
       "      <td>68484.173304</td>\n",
       "    </tr>\n",
       "    <tr>\n",
       "      <th>Comedy</th>\n",
       "      <td>898</td>\n",
       "      <td>68912.766147</td>\n",
       "    </tr>\n",
       "    <tr>\n",
       "      <th>Action</th>\n",
       "      <td>694</td>\n",
       "      <td>131380.325648</td>\n",
       "    </tr>\n",
       "    <tr>\n",
       "      <th>Thriller</th>\n",
       "      <td>497</td>\n",
       "      <td>78318.523139</td>\n",
       "    </tr>\n",
       "    <tr>\n",
       "      <th>Adventure</th>\n",
       "      <td>475</td>\n",
       "      <td>169220.597895</td>\n",
       "    </tr>\n",
       "  </tbody>\n",
       "</table>\n",
       "</div>"
      ],
      "text/plain": [
       "           number of movies       numvotes\n",
       "Drama                  1356   68484.173304\n",
       "Comedy                  898   68912.766147\n",
       "Action                  694  131380.325648\n",
       "Thriller                497   78318.523139\n",
       "Adventure               475  169220.597895"
      ]
     },
     "execution_count": 20,
     "metadata": {},
     "output_type": "execute_result"
    }
   ],
   "source": [
    "top10 = genres_count_10percent.join(genres_avgvotes_10)\n",
    "top10.rename(columns={'genres':'number of movies'}, inplace=True)\n",
    "top10"
   ]
  },
  {
   "cell_type": "code",
   "execution_count": 21,
   "metadata": {},
   "outputs": [
    {
     "data": {
      "text/plain": [
       "92810.64028776978"
      ]
     },
     "execution_count": 21,
     "metadata": {},
     "output_type": "execute_result"
    }
   ],
   "source": [
    "df_drama['numvotes'].mean()"
   ]
  },
  {
   "cell_type": "code",
   "execution_count": 22,
   "metadata": {},
   "outputs": [
    {
     "data": {
      "text/plain": [
       "254385.12068965516"
      ]
     },
     "execution_count": 22,
     "metadata": {},
     "output_type": "execute_result"
    }
   ],
   "source": [
    "df_scifi['numvotes'].mean()"
   ]
  },
  {
   "cell_type": "code",
   "execution_count": 23,
   "metadata": {},
   "outputs": [
    {
     "ename": "NameError",
     "evalue": "name 'top_1percent' is not defined",
     "output_type": "error",
     "traceback": [
      "\u001b[0;31m---------------------------------------------------------------------------\u001b[0m",
      "\u001b[0;31mNameError\u001b[0m                                 Traceback (most recent call last)",
      "\u001b[0;32m<ipython-input-23-dec50b9e78ba>\u001b[0m in \u001b[0;36m<module>\u001b[0;34m\u001b[0m\n\u001b[0;32m----> 1\u001b[0;31m \u001b[0mtop_1percent\u001b[0m\u001b[0;34m.\u001b[0m\u001b[0mloc\u001b[0m\u001b[0;34m[\u001b[0m\u001b[0;34m:\u001b[0m\u001b[0;34m,\u001b[0m\u001b[0;34m(\u001b[0m\u001b[0;34m'genres'\u001b[0m\u001b[0;34m)\u001b[0m\u001b[0;34m]\u001b[0m \u001b[0;34m=\u001b[0m \u001b[0mtop_1percent\u001b[0m\u001b[0;34m.\u001b[0m\u001b[0mloc\u001b[0m\u001b[0;34m[\u001b[0m\u001b[0;34m:\u001b[0m\u001b[0;34m,\u001b[0m\u001b[0;34m(\u001b[0m\u001b[0;34m'genres'\u001b[0m\u001b[0;34m)\u001b[0m\u001b[0;34m]\u001b[0m\u001b[0;34m.\u001b[0m\u001b[0mstr\u001b[0m\u001b[0;34m.\u001b[0m\u001b[0msplit\u001b[0m\u001b[0;34m(\u001b[0m\u001b[0;34m','\u001b[0m\u001b[0;34m)\u001b[0m\u001b[0;34m\u001b[0m\u001b[0;34m\u001b[0m\u001b[0m\n\u001b[0m",
      "\u001b[0;31mNameError\u001b[0m: name 'top_1percent' is not defined"
     ]
    }
   ],
   "source": [
    "top_1percent.loc[:,('genres')] = top_1percent.loc[:,('genres')].str.split(',')"
   ]
  },
  {
   "cell_type": "code",
   "execution_count": null,
   "metadata": {},
   "outputs": [],
   "source": [
    "df_drama_1= top_1percent.copy()\n",
    "df_drama_1['indication'] = df_drama_1['genres'].apply(lambda x: \"check\" if ((\"Drama\" in x and \"Adventure\" in x) or \n",
    "                                                                            (\"Drama\" in x and \"Action\" in x))  else \"NA\")\n",
    "df_drama_1 = df_drama_1[df_drama_1['indication'] == \"check\"]\n",
    "df_drama_1\n"
   ]
  },
  {
   "cell_type": "code",
   "execution_count": null,
   "metadata": {},
   "outputs": [],
   "source": [
    "top_1 = top_1percent.explode('genres')\n",
    "top_1"
   ]
  },
  {
   "cell_type": "code",
   "execution_count": null,
   "metadata": {},
   "outputs": [],
   "source": [
    "genres_count_1percent = pd.DataFrame(top_1['genres'].value_counts())\n",
    "genres_count_1 = genres_count_1percent.head()\n",
    "genres_count_1"
   ]
  },
  {
   "cell_type": "code",
   "execution_count": null,
   "metadata": {
    "scrolled": true
   },
   "outputs": [],
   "source": [
    "genres_avgvotes_1 = pd.DataFrame(top_1.groupby('genres')['numvotes'].mean().sort_values(ascending=False))\n",
    "genres_avgvotes_1 = genres_avgvotes_1.reset_index()\n",
    "genres_avgvotes_1 = genres_avgvotes_1[genres_avgvotes_1['genres'].isin(['Drama','Comedy','Action','Sci-Fi','Adventure'])]\n",
    "genres_avgvotes_1.set_index('genres', inplace=True)\n",
    "genres_avgvotes_1"
   ]
  },
  {
   "cell_type": "code",
   "execution_count": null,
   "metadata": {},
   "outputs": [],
   "source": [
    "top1 = genres_count_1.join(genres_avgvotes_1)\n",
    "top1.rename(columns={'genres':'number of movies'}, inplace=True)\n",
    "top1"
   ]
  },
  {
   "cell_type": "code",
   "execution_count": null,
   "metadata": {},
   "outputs": [],
   "source": [
    "x = np.arange(len(top1.index))\n",
    "width = 0.6\n",
    "\n",
    "fig, (ax1, ax2) = plt.subplots(figsize=(11,5), ncols=2, constrained_layout=True)\n",
    "fig.suptitle(\"Top One Percentile in Vote Counts\", fontsize=24)\n",
    "ax1.bar(x, top1['number of movies'], width)\n",
    "ax1.set_xticks(x)\n",
    "ax1.set_xticklabels(top1.index)\n",
    "ax1.set_title(('Number of Movies in Each Genre'))\n",
    "ax1.set_xlabel('Movie Genres')\n",
    "ax1.set_ylabel('Number of Movies')\n",
    "ax2.bar(x, top1['numvotes'], width)\n",
    "ax2.set_xticks(x)\n",
    "ax2.set_xticklabels(top1.index)\n",
    "ax2.set_title('Average Vote Counts')\n",
    "ax2.set_xlabel('Movie Genres')\n",
    "ax2.set_ylabel('Vote Counts');"
   ]
  },
  {
   "cell_type": "code",
   "execution_count": null,
   "metadata": {},
   "outputs": [],
   "source": [
    "top10"
   ]
  },
  {
   "cell_type": "code",
   "execution_count": null,
   "metadata": {},
   "outputs": [],
   "source": [
    "x = np.arange(len(top1.index))\n",
    "width = 0.6\n",
    "\n",
    "fig, (ax1, ax2) = plt.subplots(figsize=(11,5), ncols=2, constrained_layout=True)\n",
    "fig.suptitle(\"Top Ten Percentile in Vote Counts\", fontsize=24)\n",
    "ax1.bar(x, top10['number of movies'], width)\n",
    "ax1.set_xticks(x)\n",
    "ax1.set_xticklabels(top10.index)\n",
    "ax1.set_title(('Number of Movies in Each Genre'))\n",
    "ax1.set_xlabel('Movie Genres')\n",
    "ax1.set_ylabel('Number of Movies')\n",
    "ax2.bar(x, top10['numvotes'], width)\n",
    "ax2.set_xticks(x)\n",
    "ax2.set_xticklabels(top10.index)\n",
    "ax2.set_title('Average Vote Counts')\n",
    "ax2.set_xlabel('Movie Genres')\n",
    "ax2.set_ylabel('Vote Counts');"
   ]
  },
  {
   "cell_type": "code",
   "execution_count": null,
   "metadata": {},
   "outputs": [],
   "source": []
  },
  {
   "cell_type": "code",
   "execution_count": null,
   "metadata": {},
   "outputs": [],
   "source": []
  }
 ],
 "metadata": {
  "kernelspec": {
   "display_name": "Python 3",
   "language": "python",
   "name": "python3"
  },
  "language_info": {
   "codemirror_mode": {
    "name": "ipython",
    "version": 3
   },
   "file_extension": ".py",
   "mimetype": "text/x-python",
   "name": "python",
   "nbconvert_exporter": "python",
   "pygments_lexer": "ipython3",
   "version": "3.8.8"
  }
 },
 "nbformat": 4,
 "nbformat_minor": 2
}
