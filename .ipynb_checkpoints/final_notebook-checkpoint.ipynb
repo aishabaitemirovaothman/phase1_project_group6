{
 "cells": [
  {
   "cell_type": "markdown",
   "metadata": {},
   "source": [
    "# Project 1 - Group 6\n",
    "###### <font color='gray'>Authors: Aisha Baitemoriva-Othman, Adonis McQueen, Angela Kim, Deja Prade, James Kang</font>"
   ]
  },
  {
   "cell_type": "code",
   "execution_count": null,
   "metadata": {},
   "outputs": [],
   "source": [
    "## Import libraries ##\n",
    "import pandas as pd\n",
    "import numpy as np\n",
    "import matplotlib.pyplot as plt\n",
    "import seaborn as sns\n",
    "%matplotlib inline"
   ]
  },
  {
   "cell_type": "code",
   "execution_count": null,
   "metadata": {},
   "outputs": [],
   "source": [
    "## Import datasets ##\n",
    "\n",
    "# Aisha's datasets: Rotten Tomatoes\n",
    "df_rt_movie_info = pd.read_csv('data/rt.movie_info.tsv.gz',sep='\\t')\n",
    "df_rt_reviews = pd.read_csv('data/rt.reviews.tsv.gz',sep='\\t',encoding='latin1')\n",
    "\n",
    "# Adonis's dataset: Box Office Mojo\n",
    "df_gross = pd.read_csv(\"data/bom.movie_gross.csv.gz\")\n",
    "\n",
    "# Angela's dataset: The Numbers\n",
    "mb = pd.read_csv('data/tn.movie_budgets.csv.gz')\n",
    "\n",
    "# Deja's dataset: TMDB\n",
    "movie_type = pd.read_csv('data/tmdb.movies.csv.gz')\n",
    "\n",
    "# James's datasets: IMDB\n",
    "title_ratings = pd.read_csv('data/imdb.title.ratings.csv.gz')\n",
    "title_basics = pd.read_csv('data/imdb.title.basics.csv.gz')\n",
    "title_akas = pd.read_csv('data/imdb.title.akas.csv.gz')"
   ]
  },
  {
   "cell_type": "markdown",
   "metadata": {},
   "source": [
    "## Questions\n",
    "<ul>\n",
    "</ul>\n",
    "<li>Which movies have the highest gross values?\n",
    "<li>What are the domestic and worldwide profits?\n",
    "<li>What is the trend of movie genres over time?\n",
    "<li>How has average movie runtime changed over time?"
   ]
  },
  {
   "cell_type": "markdown",
   "metadata": {},
   "source": [
    "----"
   ]
  },
  {
   "cell_type": "markdown",
   "metadata": {},
   "source": [
    "## Angela's Data Analysis:"
   ]
  },
  {
   "cell_type": "code",
   "execution_count": null,
   "metadata": {},
   "outputs": [],
   "source": [
    "## Preliminary analysis\n",
    "mb.head(10)"
   ]
  },
  {
   "cell_type": "code",
   "execution_count": null,
   "metadata": {},
   "outputs": [],
   "source": [
    "## Check datatypes and look for any missing values\n",
    "mb.info()"
   ]
  },
  {
   "cell_type": "markdown",
   "metadata": {},
   "source": [
    "**Observations and Insights:**\n",
    "<ul>\n",
    "<li>There are 5782 total entries with 0 missing values.\n",
    "<li>The release date column is the object datatype and should be changed to the datetime datatype.\n",
    "<li>The production budget, domestic gross, and worldwide gross columns are also object datatypes and should be changed to integer.\n",
    "</ul>"
   ]
  },
  {
   "cell_type": "code",
   "execution_count": null,
   "metadata": {},
   "outputs": [],
   "source": [
    "## Change release_date to datetime\n",
    "mb['release_date'] = pd.to_datetime(mb['release_date'])\n",
    "\n",
    "## Change production_budget, domestic_gross, and worldwide_gross to integer\n",
    "\n",
    "mb['production_budget'] = mb['production_budget'].str.replace( ',' , '')\n",
    "mb['production_budget'] = mb['production_budget'].str.replace( '$' , '')\n",
    "mb['production_budget'] = pd.to_numeric(mb['production_budget'])\n",
    "\n",
    "mb['domestic_gross'] = mb['domestic_gross'].str.replace( ',' , '')\n",
    "mb['domestic_gross'] = mb['domestic_gross'].str.replace( '$' , '')\n",
    "mb['domestic_gross'] = pd.to_numeric(mb['domestic_gross'])\n",
    "\n",
    "mb['worldwide_gross'] = mb['worldwide_gross'].str.replace( ',' , '')\n",
    "mb['worldwide_gross'] = mb['worldwide_gross'].str.replace( '$' , '')\n",
    "mb['worldwide_gross'] = pd.to_numeric(mb['worldwide_gross'])\n",
    "\n",
    "\n",
    "## Check that all changes have been correctly made\n",
    "mb.info()"
   ]
  },
  {
   "cell_type": "code",
   "execution_count": null,
   "metadata": {
    "scrolled": true
   },
   "outputs": [],
   "source": [
    "## Remove rows with release_date before 2010 to focus on analyzing data from the most recent decade\n",
    "\n",
    "mb = mb[(mb['release_date']) >= '2010-01-01']\n",
    "\n",
    "mb.head(30)"
   ]
  },
  {
   "cell_type": "code",
   "execution_count": null,
   "metadata": {},
   "outputs": [],
   "source": [
    "mb.tail(30)"
   ]
  },
  {
   "cell_type": "markdown",
   "metadata": {},
   "source": [
    "**Observations & Insights:**\n",
    "<ul>\n",
    "<li>There are a lot of gross values that are 0. They also tend to correlate with movies with very small production budgets.\n",
    "<li>Upon investigation, these films are usually independently made and don't apply to a large corporation like Microsoft.\n",
    "</ul>"
   ]
  },
  {
   "cell_type": "code",
   "execution_count": null,
   "metadata": {},
   "outputs": [],
   "source": [
    "## Create two new columns for domestic profit and worldwide profit\n",
    "## Remove rows with negative profits\n",
    "\n",
    "mb['domestic_profit'] = (mb['domestic_gross'] - mb['production_budget'])\n",
    "mb['worldwide_profit'] = (mb['worldwide_gross'] - mb['production_budget'])\n",
    "mb.head(30)"
   ]
  },
  {
   "cell_type": "markdown",
   "metadata": {},
   "source": [
    "**Observations & Insights:**\n",
    "<ul>\n",
    "<li>There are films that are box office bombs such as Dark Phoenix, The Lone Ranger, and Pirates of the Caribbean: On Strangers Tides. Their production budgets overshadowed their box office revenues.\n",
    "</ul>"
   ]
  },
  {
   "cell_type": "code",
   "execution_count": null,
   "metadata": {},
   "outputs": [],
   "source": [
    "## Sort by highest domestic profits\n",
    "\n",
    "mb_dp = mb.sort_values(by=['domestic_profit'], ascending=False)\n",
    "mb_dp.reset_index(inplace=True)\n",
    "\n",
    "## Sort by highest worldwide profits\n",
    "\n",
    "mb_wp = mb.sort_values(by=['worldwide_profit'], ascending=False)\n",
    "mb_wp.reset_index(inplace=True)"
   ]
  },
  {
   "cell_type": "code",
   "execution_count": null,
   "metadata": {},
   "outputs": [],
   "source": [
    "## Bar chart of Top 20 Movies with Highest Domestic Profits\n",
    "\n",
    "fig, ax = plt.subplots(figsize=(12,7))\n",
    "\n",
    "x1 = mb_dp['movie'][0:20]\n",
    "y1 = mb_dp['domestic_profit'][0:20]\n",
    "\n",
    "ax = sns.barplot(x=y1, y=x1, palette='flare_r')\n",
    "ax.set(xlabel='Domestic Profits (in millions)', ylabel='Movies', title='Top 20 Movies with Highest Domestic Profits');"
   ]
  },
  {
   "cell_type": "code",
   "execution_count": null,
   "metadata": {},
   "outputs": [],
   "source": [
    "## Bar chart of Top 20 Movies with Highest Worldwide Profits\n",
    "\n",
    "fig, ax = plt.subplots(figsize=(12,7))\n",
    "\n",
    "x2 = mb_wp['movie'][0:20]\n",
    "y2 = mb_wp['worldwide_profit'][0:20]\n",
    "\n",
    "ax = sns.barplot(x=y2, y=x2, palette='flare_r')\n",
    "ax.set(xlabel='Worldwide Profits (in billions)', ylabel='Movies', title='Top 20 Movies with Highest Worldwide Profits');"
   ]
  },
  {
   "cell_type": "markdown",
   "metadata": {},
   "source": [
    "**Final Observations & Insights:**\n",
    "<ul>\n",
    "    <li>The 10 movies with highest domestic profits from 2010-mid2019 are <b><i>Star Wars Ep. VII: The Force Awakens, Black Panther, Jurassic World, Incredibles 2, The Avengers, Avengers: Infinity War, Beauty and the Beast, Rogue One: A Star Wars Story, The Hunger Games, and Jumanji: Welcome to the Jungle.</i></b>\n",
    "    <li>The 10 movies with highest worldwide profits from 2010-mid2019 are <b><i>Avengers: Infinity War, Star Wars Ep. VII: The Force Awakens, Jurassic World, Furious 7, The Avengers, Harry Potter and the Deathly Hallows: Part II, Black Panther, Jurassic World: Fallen Kingdom, Frozen, and Beauty and the Beast.</i></b>\n",
    "    <li>The most frequently occuring genres of the top 20 films are <b><i>Sci-fi, Action, Adventure, Animation, and Superhero.</i></b>\n",
    "    <li>The majority of these films are part of the <b><i>Marvel</i></b> or <b><i>Star Wars</i></b> franchises.\n",
    "    <li>There has also been a huge focus on revitalizing or reimagining classics such as <b><i>Jurassic Park, James Bond, and Jumanji.</i></b>\n",
    "    <li>Many financially successful films are sequels such as <b><i>Star Wars Ep. VII, Avengers: Infinity War, Furious 7, Harry Potter and the Deathly Hallows: Parts I & II, and Incredibles 2</b></i>\n",
    "</ul>"
   ]
  },
  {
   "cell_type": "markdown",
   "metadata": {},
   "source": [
    "----"
   ]
  },
  {
   "cell_type": "markdown",
   "metadata": {},
   "source": [
    "## Aisha's Data Analysis:"
   ]
  },
  {
   "cell_type": "code",
   "execution_count": null,
   "metadata": {},
   "outputs": [],
   "source": [
    "df_rt_movie_info.head(3)"
   ]
  },
  {
   "cell_type": "code",
   "execution_count": null,
   "metadata": {},
   "outputs": [],
   "source": [
    "df_rt_movie_info.shape"
   ]
  },
  {
   "cell_type": "code",
   "execution_count": null,
   "metadata": {},
   "outputs": [],
   "source": [
    "# Remove the month and day from the theater_date and create a new column with just the year of the release date\n",
    "df_rt_movie_info['new_theater_date'] = df_rt_movie_info.theater_date.str[-4:]"
   ]
  },
  {
   "cell_type": "code",
   "execution_count": null,
   "metadata": {},
   "outputs": [],
   "source": [
    "# Convert the values in the 'new_theater_date' column from strings to integers\n",
    "df_rt_movie_info['new_theater_date'] = df_rt_movie_info['new_theater_date'].apply(pd.to_numeric)"
   ]
  },
  {
   "cell_type": "code",
   "execution_count": null,
   "metadata": {},
   "outputs": [],
   "source": [
    "df_rt_movie_info.head(3)"
   ]
  },
  {
   "cell_type": "markdown",
   "metadata": {},
   "source": [
    "**Observations & Insights**\n",
    "<ul>\n",
    "</ul>\n",
    "<li>There are 494 out of 1560 rows that have a missing studio value"
   ]
  },
  {
   "cell_type": "code",
   "execution_count": null,
   "metadata": {},
   "outputs": [],
   "source": [
    "df_rt_movie_info['studio'].isna().value_counts()"
   ]
  },
  {
   "cell_type": "code",
   "execution_count": null,
   "metadata": {},
   "outputs": [],
   "source": [
    "# All the studios listed\n",
    "df_rt_movie_info['studio'].value_counts().head() "
   ]
  },
  {
   "cell_type": "code",
   "execution_count": null,
   "metadata": {},
   "outputs": [],
   "source": [
    "df_rt_reviews.head(10)"
   ]
  },
  {
   "cell_type": "code",
   "execution_count": null,
   "metadata": {},
   "outputs": [],
   "source": [
    "df_rt_reviews[df_rt_reviews['rating'].isna()]"
   ]
  },
  {
   "cell_type": "code",
   "execution_count": null,
   "metadata": {},
   "outputs": [],
   "source": [
    "# Split the \"rating\" column into two separate columns, separating them on \"/\" if the rating is not a letter\n",
    "df_rt_reviews[['fn','sn']] = df_rt_reviews['rating'].str.split('/',expand=True)"
   ]
  },
  {
   "cell_type": "code",
   "execution_count": null,
   "metadata": {},
   "outputs": [],
   "source": [
    "df_rt_reviews.head()"
   ]
  },
  {
   "cell_type": "code",
   "execution_count": null,
   "metadata": {},
   "outputs": [],
   "source": [
    "# Convert all string values in the 'fn' and 'sn' columns into numeric values\n",
    "df_rt_reviews['fn'] = df_rt_reviews['fn'].apply(pd.to_numeric)\n",
    "df_rt_reviews['sn'] = df_rt_reviews['sn'].apply(pd.to_numeric)"
   ]
  },
  {
   "cell_type": "code",
   "execution_count": null,
   "metadata": {},
   "outputs": [],
   "source": [
    "df_rt_reviews['new_rating'] = df_rt_reviews.apply(lambda row: row.fn/row.sn, axis=1)"
   ]
  },
  {
   "cell_type": "code",
   "execution_count": null,
   "metadata": {},
   "outputs": [],
   "source": [
    "# Delete rows that have a new_rating value higher than 1\n",
    "df_rt_reviews = df_rt_reviews[df_rt_reviews.new_rating <=1]"
   ]
  },
  {
   "cell_type": "code",
   "execution_count": null,
   "metadata": {},
   "outputs": [],
   "source": [
    "df_rt_reviews.head()"
   ]
  },
  {
   "cell_type": "code",
   "execution_count": null,
   "metadata": {},
   "outputs": [],
   "source": [
    "# Create a new dataset with only 'id' and 'new_rating' columns of the 'df_rt_reviews' dataset\n",
    "# so we can merge it later on with the 'df_rt_movie_info' dataset.\n",
    "new_rt_reviews = pd.DataFrame(zip(df_rt_reviews.id, df_rt_reviews.new_rating))"
   ]
  },
  {
   "cell_type": "code",
   "execution_count": null,
   "metadata": {},
   "outputs": [],
   "source": [
    "# Renam the columns back to original names\n",
    "new_rt_reviews.rename(columns={0: 'id', 1: 'rating'}, inplace=True)"
   ]
  },
  {
   "cell_type": "code",
   "execution_count": null,
   "metadata": {},
   "outputs": [],
   "source": [
    "new_rt_reviews.head()"
   ]
  },
  {
   "cell_type": "code",
   "execution_count": null,
   "metadata": {},
   "outputs": [],
   "source": [
    "df_rt_movie_info.head()"
   ]
  },
  {
   "cell_type": "code",
   "execution_count": null,
   "metadata": {},
   "outputs": [],
   "source": [
    "new_rt_movie_info= pd.DataFrame(zip(df_rt_movie_info.id, df_rt_movie_info.genre,df_rt_movie_info.runtime))"
   ]
  },
  {
   "cell_type": "code",
   "execution_count": null,
   "metadata": {},
   "outputs": [],
   "source": [
    "new_rt_movie_info.head()"
   ]
  },
  {
   "cell_type": "code",
   "execution_count": null,
   "metadata": {},
   "outputs": [],
   "source": [
    "# Renam the columns back to original names\n",
    "new_rt_movie_info.rename(columns={0: 'id', 1: 'genres',2: 'runtime'}, inplace=True)"
   ]
  },
  {
   "cell_type": "code",
   "execution_count": null,
   "metadata": {},
   "outputs": [],
   "source": [
    "new_rt_movie_info.head()"
   ]
  },
  {
   "cell_type": "code",
   "execution_count": null,
   "metadata": {},
   "outputs": [],
   "source": [
    "# Convert the 'runtime' column's string values into floats\n",
    "merged_datasets['runtime'] = pd.to_numeric(merged_datasets['runtime'])"
   ]
  },
  {
   "cell_type": "code",
   "execution_count": null,
   "metadata": {},
   "outputs": [],
   "source": [
    "merged_datasets.info()"
   ]
  },
  {
   "cell_type": "code",
   "execution_count": null,
   "metadata": {},
   "outputs": [],
   "source": [
    "# Value count of movies by genre\n",
    "merged_datasets['genres'].value_counts()"
   ]
  },
  {
   "cell_type": "markdown",
   "metadata": {},
   "source": [
    "**Observations & Insights:**\n",
    "<ul>\n",
    "</ul>\n",
    "<li>The last four genre categories are too low in numbers compared to other movie genres.\n",
    "<li>We think it is best to remove them from our dataset."
   ]
  },
  {
   "cell_type": "code",
   "execution_count": null,
   "metadata": {},
   "outputs": [],
   "source": [
    "# Create a list of genres that are not statistically significant\n",
    "not_significant_genres_list = ['Anime and Manga','Gay and Lesbian','Cult Movies','Faith and Spirituality','Television','Sports and Fitness','Documentary','Western','Special Interest']"
   ]
  },
  {
   "cell_type": "code",
   "execution_count": null,
   "metadata": {},
   "outputs": [],
   "source": [
    "# Delete the not statistically insignificant genres from the dataset and creating a new dataset without those genres\n",
    "new_merged_datasets = merged_datasets[~merged_datasets.genres.isin(not_significant_genres_list)]"
   ]
  },
  {
   "cell_type": "code",
   "execution_count": null,
   "metadata": {},
   "outputs": [],
   "source": [
    "# Find the mean of runtime for each genre\n",
    "average_runtime_per_genre = new_merged_datasets.groupby('genres', as_index=False)['runtime'].mean()\n",
    "average_runtime_per_genre"
   ]
  },
  {
   "cell_type": "code",
   "execution_count": null,
   "metadata": {},
   "outputs": [],
   "source": [
    "# Find the mean of the ratings for each genre\n",
    "average_rating_per_genre = new_merged_datasets.groupby('genres', as_index=False)['rating'].mean()\n",
    "average_rating_per_genre"
   ]
  },
  {
   "cell_type": "code",
   "execution_count": null,
   "metadata": {},
   "outputs": [],
   "source": [
    "fig, ax11 = plt.subplots(figsize = (20,8))\n",
    "x11 = average_rating_per_genre['genres']\n",
    "y11 = average_rating_per_genre['mean_rating']\n",
    "ax11.bar(x1,y1)\n",
    "ax11.set_title('average rating per genre')\n",
    "ax11.set_xlabel('genres')\n",
    "ax11.set_ylabel('average rating')\n",
    "plt.xticks(rotation = 45)"
   ]
  },
  {
   "cell_type": "markdown",
   "metadata": {},
   "source": [
    "**Observations & Insights:**\n",
    "<ul>\n",
    "</ul>\n",
    "The 4 genres that have the highest average ratings:\n",
    "        <li> Romance </li>\n",
    "        <li> Art House and International </li>\n",
    "        <li> Drama </li>\n",
    "        <li> Mystery and Suspense </li>"
   ]
  },
  {
   "cell_type": "code",
   "execution_count": null,
   "metadata": {},
   "outputs": [],
   "source": [
    "# Create a list of the four genres with the highest rating\n",
    "four_genres_list = ['Romance','Art House and International','Drama','Mystery and Suspense']"
   ]
  },
  {
   "cell_type": "code",
   "execution_count": null,
   "metadata": {},
   "outputs": [],
   "source": [
    "# Create a dataset with only the four genres with the highest ratings\n",
    "highest_rating_genres_dataset = merged_datasets[merged_datasets.genres.isin(four_genres_list)]"
   ]
  },
  {
   "cell_type": "code",
   "execution_count": null,
   "metadata": {},
   "outputs": [],
   "source": [
    "highest_rating_genres_dataset['genres'].value_counts()"
   ]
  },
  {
   "cell_type": "code",
   "execution_count": null,
   "metadata": {},
   "outputs": [],
   "source": [
    "# The mean of runtime for the four highest rated genres\n",
    "highest_rating_genres_dataset['runtime'].mean()"
   ]
  },
  {
   "cell_type": "code",
   "execution_count": null,
   "metadata": {},
   "outputs": [],
   "source": [
    "# Standard deviation from the mean for the four highest rated genres\n",
    "highest_rating_genres_dataset['runtime'].std()"
   ]
  },
  {
   "cell_type": "code",
   "execution_count": null,
   "metadata": {},
   "outputs": [],
   "source": [
    "# Get an average runtime for each of the four highest rating genres\n",
    "avg_runtime_high_rating_genres = highest_rating_genres_dataset.groupby('genres', as_index=False)['runtime'].mean()"
   ]
  },
  {
   "cell_type": "code",
   "execution_count": null,
   "metadata": {},
   "outputs": [],
   "source": [
    "# Rename the 'runtime' column of the new dataset into the \"mean_runtime\" \n",
    "avg_runtime_high_rating_genres.rename(columns={'runtime': 'mean_runtime'}, inplace=True)"
   ]
  },
  {
   "cell_type": "code",
   "execution_count": null,
   "metadata": {},
   "outputs": [],
   "source": [
    "avg_runtime_high_rating_genres"
   ]
  },
  {
   "cell_type": "code",
   "execution_count": null,
   "metadata": {},
   "outputs": [],
   "source": [
    "fig, ax22 = plt.subplots(figsize = (12,6))\n",
    "x22 = avg_runtime_high_rating_genres['genres']\n",
    "y22 = avg_runtime_high_rating_genres['mean_runtime']\n",
    "ax22.bar(x2,y2)\n",
    "ax22.set_title('average runtime per genre')\n",
    "ax22.set_xlabel('genres')\n",
    "ax22.set_ylabel('average rating')\n",
    "plt.xticks(rotation = 45);"
   ]
  },
  {
   "cell_type": "markdown",
   "metadata": {},
   "source": [
    "----"
   ]
  },
  {
   "cell_type": "markdown",
   "metadata": {},
   "source": [
    "## Adonis's Data Analysis"
   ]
  },
  {
   "cell_type": "code",
   "execution_count": null,
   "metadata": {},
   "outputs": [],
   "source": [
    "df_gross.head()"
   ]
  },
  {
   "cell_type": "code",
   "execution_count": null,
   "metadata": {},
   "outputs": [],
   "source": [
    "# Find null values\n",
    "df_gross['domestic_gross'].isnull().value_counts()"
   ]
  },
  {
   "cell_type": "code",
   "execution_count": null,
   "metadata": {},
   "outputs": [],
   "source": [
    "df_gross['foreign_gross'].isnull().value_counts()"
   ]
  },
  {
   "cell_type": "code",
   "execution_count": null,
   "metadata": {},
   "outputs": [],
   "source": [
    "df_gross.info()"
   ]
  },
  {
   "cell_type": "code",
   "execution_count": null,
   "metadata": {},
   "outputs": [],
   "source": [
    "# Remove commas from values & convert to numeric\n",
    "df_gross['foreign_gross'] = df_gross['foreign_gross'].str.replace(',', '')\n",
    "df_gross['foreign_gross'] = pd.to_numeric(df_gross['foreign_gross'])\n",
    "df_gross['foreign_gross'].head() "
   ]
  },
  {
   "cell_type": "code",
   "execution_count": null,
   "metadata": {},
   "outputs": [],
   "source": [
    "# Remove null values from columns\n",
    "df_gross.dropna(subset=['studio', 'domestic_gross', 'foreign_gross'], inplace=True)\n",
    "df_gross.shape"
   ]
  },
  {
   "cell_type": "code",
   "execution_count": null,
   "metadata": {},
   "outputs": [],
   "source": [
    "# Verification of null value deletion\n",
    "df_gross.info()"
   ]
  },
  {
   "cell_type": "markdown",
   "metadata": {},
   "source": [
    "**Observations & Insights:**\n",
    "<ul></ul>\n",
    "<li>Do the studios that produce the most movies have the highest gross values?"
   ]
  },
  {
   "cell_type": "code",
   "execution_count": null,
   "metadata": {},
   "outputs": [],
   "source": [
    "# Top 10 studios with the most movies\n",
    "df_gross['studio'].value_counts()[:10]"
   ]
  },
  {
   "cell_type": "code",
   "execution_count": null,
   "metadata": {},
   "outputs": [],
   "source": [
    "x = list(df_gross['studio'].value_counts()[:10].index)\n",
    "x"
   ]
  },
  {
   "cell_type": "code",
   "execution_count": null,
   "metadata": {},
   "outputs": [],
   "source": [
    "# Top 10 studios domestic gross\n",
    "dfm2 = df_gross.groupby(['studio']).domestic_gross.sum().reset_index().sort_values(by='domestic_gross', ascending=False)\n",
    "d = dfm2[dfm2['studio'].isin(x)]"
   ]
  },
  {
   "cell_type": "markdown",
   "metadata": {},
   "source": [
    "**Observations & Insights:**\n",
    "<ul></ul>\n",
    "<li>Data analysis will focus on domestic and foreign gross for titles and studios."
   ]
  },
  {
   "cell_type": "code",
   "execution_count": null,
   "metadata": {},
   "outputs": [],
   "source": [
    "# Total gross for each film\n",
    "df_gross['total_gross'] = df_gross['domestic_gross'] + df_gross['foreign_gross']\n",
    "df_gross.head()"
   ]
  },
  {
   "cell_type": "code",
   "execution_count": null,
   "metadata": {},
   "outputs": [],
   "source": [
    "# Sort by domestic gross\n",
    "f = df_gross.sort_values(by='domestic_gross', ascending=False)\n",
    "\n",
    "f.head()"
   ]
  },
  {
   "cell_type": "markdown",
   "metadata": {},
   "source": [
    "**Observations & Insights:**\n",
    "<ul></ul>\n",
    "<li>Some foreign gross values seem wrong for blockbuster films. Are there more?"
   ]
  },
  {
   "cell_type": "code",
   "execution_count": null,
   "metadata": {},
   "outputs": [],
   "source": [
    "# Sort df on foreign gross\n",
    "g = df_gross.sort_values(by='foreign_gross', ascending=False)\n",
    "g.head(20)"
   ]
  },
  {
   "cell_type": "code",
   "execution_count": null,
   "metadata": {},
   "outputs": [],
   "source": [
    "# Check for more misreported foreign gross\n",
    "g.tail(20)"
   ]
  },
  {
   "cell_type": "markdown",
   "metadata": {},
   "source": [
    "**Observations & Insights:**\n",
    "<ul></ul>\n",
    "<li>Foreign gross values for some blockbusters are obviously misreported.\n",
    "<li>Analysis will focus on domestic markets, as foreign gross values cannot be verified/trusted."
   ]
  },
  {
   "cell_type": "code",
   "execution_count": null,
   "metadata": {},
   "outputs": [],
   "source": [
    "# Domestic gross per title\n",
    "fig, (ax1, ax2, ax3) = plt.subplots(ncols=3, figsize=(20,8))\n",
    "\n",
    "x1 = f['title'][:10]\n",
    "y1 = f['domestic_gross'][:10]\n",
    "ax1.barh(x1, y1)\n",
    "ax1.set_xlabel(\"Domestic Gross (hundreds of millions)\")\n",
    "ax1.set_ylabel(\"Movie Title\")\n",
    "ax1.set_title(\"Domestic Gross per Movie\")\n",
    "\n",
    "\n",
    "# Domestic gross per studio\n",
    "dfm3 = df_gross.groupby(['studio']).domestic_gross.sum().reset_index().sort_values(by='domestic_gross', ascending=False)\n",
    "\n",
    "\n",
    "x2 = dfm3.studio[:10]\n",
    "y2 = dfm3.domestic_gross[:10]\n",
    "ax2.barh(x2, y2)\n",
    "ax2.set_xlabel('Domestic Gross (tens of billions)')\n",
    "ax2.set_ylabel('Studio')\n",
    "ax2.set_title('Top 10 Highest Domestic Grossing Studios ')\n",
    "\n",
    "# Domestic gross for studios with most films\n",
    "x = ['Uni.', 'Fox', 'WB', 'Sony', 'BV', 'Par.', 'LGF', 'Wein.', 'IFC', 'SPC']\n",
    "\n",
    "\n",
    "x3 = d['studio']\n",
    "y3 = d['domestic_gross']\n",
    "ax3.barh(x3, y3)\n",
    "ax3.set_xlabel(\"Domestic Gross (tens of billions)\")\n",
    "ax3.set_ylabel(\"Studio\")\n",
    "ax3.set_title('Total Domestic Gross for Studio with Most Films')\n",
    "\n",
    "fig.tight_layout()"
   ]
  },
  {
   "cell_type": "markdown",
   "metadata": {},
   "source": [
    "**Final Observations & Insights**\n",
    "<ul>\n",
    "    <li> From the data we can see that outside of the largest studios (BV, Uni, WB, Fox, Sony), the number of films doesn't correlate with highest domestic gross. As such, we recommend that Microsoft focuses on quality content in Drama, Action and Comedy.\n",
    "    <li> The highest grossing films are all franchises (Marvel, Jurassic Park, Star Wars, etc). It is highly recommended that any action films made be based upon Microsoft franchises to avoid licensure/copyright fees(this caused issues for Microsoft in the past with potential Halo films).\n",
    "    <li> Smaller studios such as Weinstein, SPC and IFC could potentially be acquired to acclerate content production.\n",
    "</ul>"
   ]
  },
  {
   "cell_type": "markdown",
   "metadata": {},
   "source": [
    "----"
   ]
  },
  {
   "cell_type": "markdown",
   "metadata": {
    "collapsed": true
   },
   "source": [
    "# Deja's Data Analysis"
   ]
  },
  {
   "cell_type": "code",
   "execution_count": null,
   "metadata": {},
   "outputs": [],
   "source": [
    "# Display dataframe\n",
    "display(movie_type)\n",
    "display(movie_type.info())"
   ]
  },
  {
   "cell_type": "markdown",
   "metadata": {},
   "source": [
    "**Observations & Insights:**\n",
    "<ul></ul>\n",
    "<li>There are 26517 total entries with 0 missing values.\n",
    "<li>The vote count needs to be reduced to a more relevant number and discard outliers like 1\n",
    "<li>The genre ids need to be changed to actual genres\n",
    "<li>Reduce to movies in english \n",
    "<li>Reduce number of duplicate titles"
   ]
  },
  {
   "cell_type": "code",
   "execution_count": null,
   "metadata": {},
   "outputs": [],
   "source": [
    "# Show when movies were released\n",
    "movie_type.sort_values(by='release_date', ascending=False)"
   ]
  },
  {
   "cell_type": "code",
   "execution_count": null,
   "metadata": {},
   "outputs": [],
   "source": [
    "# Filter for movies in English\n",
    "movie_type= movie_type.loc[movie_type['original_language'] == \"en\"]\n",
    "movie_type"
   ]
  },
  {
   "cell_type": "code",
   "execution_count": null,
   "metadata": {},
   "outputs": [],
   "source": [
    "# Condense data to get most voted on movies\n",
    "movie_type_data= movie_type.loc[movie_type['vote_count'] >= 10000]\n",
    "movie_type_data"
   ]
  },
  {
   "cell_type": "code",
   "execution_count": null,
   "metadata": {},
   "outputs": [],
   "source": [
    "movie_type_data[\"genre_ids\"].iloc[0]"
   ]
  },
  {
   "cell_type": "code",
   "execution_count": null,
   "metadata": {},
   "outputs": [],
   "source": [
    "# Separate genre ids with multiple values\n",
    "movie_type_data.genre_ids = movie_type_data.genre_ids.map(lambda x:eval(x))"
   ]
  },
  {
   "cell_type": "code",
   "execution_count": null,
   "metadata": {},
   "outputs": [],
   "source": [
    "movie_type_data = movie_type_data.explode(\"genre_ids\")"
   ]
  },
  {
   "cell_type": "code",
   "execution_count": null,
   "metadata": {},
   "outputs": [],
   "source": [
    "# Filter genres with few votes\n",
    "movie_type_data= movie_type_data.loc[movie_type_data['genre_ids'] <= 878]\n",
    "movie_type_data"
   ]
  },
  {
   "cell_type": "code",
   "execution_count": null,
   "metadata": {},
   "outputs": [],
   "source": [
    "movie_type_data[\"genre_ids\"].replace({12: \"adventure\", 14: \"fantasy\", 16: \"animated\", 18: \"drama\", 27: \"horror\", 28: \"action\", 35: \"comedy\", 36: \"history\", 37: \"western\", 53: \"thriller\", 80: \"crime\", 878: \"sci fi\"}, inplace=True)"
   ]
  },
  {
   "cell_type": "code",
   "execution_count": null,
   "metadata": {},
   "outputs": [],
   "source": [
    "#Create a violin plot to display the relationship between vote averages and genres\n",
    "sns.set_theme(style=\"ticks\", color_codes=True)\n",
    "g = sns.catplot(x=movie_type_data[\"genre_ids\"].astype(\"category\") , y=\"vote_average\", kind=\"violin\", inner=None, data=movie_type_data)\n",
    "sns.swarmplot(x=\"genre_ids\", y=\"vote_average\", color=\"k\", size=3, data=movie_type_data, ax=g.ax)\n",
    "g.set_xticklabels(rotation=45)"
   ]
  },
  {
   "cell_type": "markdown",
   "metadata": {},
   "source": [
    "## conclusion\n",
    "I believe the focus of resources should be centered towards action, adventure, fantasy,sci-fi, comedy and animated movies. While animated has the highest rating the other 5 categories have higher volumes of consumer interaction."
   ]
  }
 ],
 "metadata": {
  "kernelspec": {
   "display_name": "Python (learn-env)",
   "language": "python",
   "name": "learn-env"
  },
  "language_info": {
   "codemirror_mode": {
    "name": "ipython",
    "version": 3
   },
   "file_extension": ".py",
   "mimetype": "text/x-python",
   "name": "python",
   "nbconvert_exporter": "python",
   "pygments_lexer": "ipython3",
   "version": "3.8.5"
  }
 },
 "nbformat": 4,
 "nbformat_minor": 4
}
