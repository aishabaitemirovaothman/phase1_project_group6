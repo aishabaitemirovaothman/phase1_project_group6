{
 "cells": [
  {
   "cell_type": "markdown",
   "metadata": {},
   "source": [
    "# Microsoft Studios\n",
    "## Designing Data-Driven Recommendations\n",
    "\n",
    "###### <font color='gray'>Authors: Aisha Baitemoriva-Othman, Adonis McQueen, Angela Kim, Deja Prade, James Kang</font>"
   ]
  },
  {
   "cell_type": "markdown",
   "metadata": {},
   "source": [
    "## Overview\n",
    "\n"
   ]
  },
  {
   "cell_type": "markdown",
   "metadata": {},
   "source": [
    "## Business Problem\n",
    "<ul>\n",
    "    Microsoft has seen that many big companies are creating original video content and they wish to tap into this market. They have decided to create a movie studio, but don't have any knowledge about creating movies. The purpose of this project is to make actionable insights to Microsoft based upon what movies are doing the best at the box office. The findings of the project will help Microsoft understand what types of movies to create as well as suggest other business strategies to support content creation."
   ]
  },
  {
   "cell_type": "markdown",
   "metadata": {},
   "source": [
    "----"
   ]
  },
  {
   "cell_type": "code",
   "execution_count": null,
   "metadata": {},
   "outputs": [],
   "source": [
    "## Import libraries ##\n",
    "import pandas as pd\n",
    "import numpy as np\n",
    "import matplotlib.pyplot as plt\n",
    "import matplotlib.patches as mpatches\n",
    "from matplotlib.patches import Rectangle\n",
    "import seaborn as sns\n",
    "%matplotlib inline"
   ]
  },
  {
   "cell_type": "code",
   "execution_count": null,
   "metadata": {},
   "outputs": [],
   "source": [
    "## Import datasets ##\n",
    "\n",
    "# Aisha's datasets: Rotten Tomatoes\n",
    "df_rt_movie_info = pd.read_csv('data/rt.movie_info.tsv.gz',sep='\\t')\n",
    "df_rt_reviews = pd.read_csv('data/rt.reviews.tsv.gz',sep='\\t',encoding='latin1')\n",
    "\n",
    "# Adonis's dataset: Box Office Mojo\n",
    "df_gross = pd.read_csv(\"data/bom.movie_gross.csv.gz\")\n",
    "\n",
    "# Angela's dataset: The Numbers\n",
    "mb = pd.read_csv('data/tn.movie_budgets.csv.gz')\n",
    "\n",
    "# Deja's dataset: TMDB\n",
    "movie_type = pd.read_csv('data/tmdb.movies.csv.gz')\n",
    "\n",
    "# James's datasets: IMDB\n",
    "title_ratings = pd.read_csv('data/imdb.title.ratings.csv.gz')\n",
    "title_basics = pd.read_csv('data/imdb.title.basics.csv.gz')\n",
    "title_akas = pd.read_csv('data/imdb.title.akas.csv.gz')"
   ]
  },
  {
   "cell_type": "markdown",
   "metadata": {},
   "source": [
    "----"
   ]
  },
  {
   "cell_type": "markdown",
   "metadata": {},
   "source": [
    "## Angela's Data Preparation & Analysis:"
   ]
  },
  {
   "cell_type": "code",
   "execution_count": null,
   "metadata": {},
   "outputs": [],
   "source": [
    "## Preliminary analysis\n",
    "## Check datatypes and look for any missing values\n",
    "display(mb.head())\n",
    "display(mb.info())"
   ]
  },
  {
   "cell_type": "markdown",
   "metadata": {},
   "source": [
    "**Observations and Insights:**\n",
    "<ul>\n",
    "<li>There are 5782 total entries with 0 missing values.\n",
    "<li>The release date column is the object datatype and should be changed to the datetime datatype.\n",
    "<li>The production budget, domestic gross, and worldwide gross columns are also object datatypes and should be changed to integer.\n",
    "</ul>"
   ]
  },
  {
   "cell_type": "code",
   "execution_count": null,
   "metadata": {},
   "outputs": [],
   "source": [
    "## Change release_date to datetime\n",
    "mb['release_date'] = pd.to_datetime(mb['release_date'])\n",
    "\n",
    "## Change production_budget, domestic_gross, and worldwide_gross to integer\n",
    "\n",
    "mb['production_budget'] = mb['production_budget'].str.replace( ',' , '')\n",
    "mb['production_budget'] = mb['production_budget'].str.replace( '$' , '')\n",
    "mb['production_budget'] = pd.to_numeric(mb['production_budget'])\n",
    "\n",
    "mb['domestic_gross'] = mb['domestic_gross'].str.replace( ',' , '')\n",
    "mb['domestic_gross'] = mb['domestic_gross'].str.replace( '$' , '')\n",
    "mb['domestic_gross'] = pd.to_numeric(mb['domestic_gross'])\n",
    "\n",
    "mb['worldwide_gross'] = mb['worldwide_gross'].str.replace( ',' , '')\n",
    "mb['worldwide_gross'] = mb['worldwide_gross'].str.replace( '$' , '')\n",
    "mb['worldwide_gross'] = pd.to_numeric(mb['worldwide_gross'])\n",
    "\n",
    "\n",
    "## Check that all changes have been correctly made\n",
    "mb.info()"
   ]
  },
  {
   "cell_type": "code",
   "execution_count": null,
   "metadata": {
    "scrolled": true
   },
   "outputs": [],
   "source": [
    "## Remove rows with release_date before 2010 to focus on analyzing data from the most recent decade\n",
    "\n",
    "mb = mb[(mb['release_date']) >= '2010-01-01']\n",
    "\n",
    "display(mb.head(30))\n",
    "display(mb.tail(30))"
   ]
  },
  {
   "cell_type": "markdown",
   "metadata": {},
   "source": [
    "**Observations & Insights:**\n",
    "<ul>\n",
    "<li>There are a lot of gross values that are 0. They also tend to correlate with movies with very small production budgets.\n",
    "<li>Upon investigation, these films are usually independently made and don't apply to a large corporation like Microsoft.\n",
    "</ul>"
   ]
  },
  {
   "cell_type": "code",
   "execution_count": null,
   "metadata": {},
   "outputs": [],
   "source": [
    "## Create two new columns for domestic profit and worldwide profit\n",
    "## Remove rows with negative profits\n",
    "\n",
    "mb['domestic_profit'] = (mb['domestic_gross'] - mb['production_budget'])\n",
    "mb['worldwide_profit'] = (mb['worldwide_gross'] - mb['production_budget'])\n",
    "mb.head(30)"
   ]
  },
  {
   "cell_type": "markdown",
   "metadata": {},
   "source": [
    "**Observations & Insights:**\n",
    "<ul>\n",
    "<li>There are films that are box office bombs such as Dark Phoenix, The Lone Ranger, and Pirates of the Caribbean: On Strangers Tides. Their production budgets overshadowed their box office revenues.\n",
    "</ul>"
   ]
  },
  {
   "cell_type": "code",
   "execution_count": null,
   "metadata": {},
   "outputs": [],
   "source": [
    "## Sort by highest domestic profits\n",
    "\n",
    "mb_dp = mb.sort_values(by=['domestic_profit'], ascending=False)\n",
    "mb_dp.reset_index(inplace=True)\n",
    "\n",
    "## Sort by highest worldwide profits\n",
    "\n",
    "mb_wp = mb.sort_values(by=['worldwide_profit'], ascending=False)\n",
    "mb_wp.reset_index(inplace=True)"
   ]
  },
  {
   "cell_type": "code",
   "execution_count": null,
   "metadata": {},
   "outputs": [],
   "source": [
    "## Bar chart of Top 30 Movies with Highest Domestic Profits\n",
    "\n",
    "fig, ax = plt.subplots(figsize=(18,10), dpi=200)\n",
    "\n",
    "x1 = mb_dp['movie'][0:30]\n",
    "y1 = mb_dp['domestic_profit'][0:30]\n",
    "\n",
    "\n",
    "# Buena Vista is MAGENTA\n",
    "# Universal Pictures is VIOLET\n",
    "ax = sns.barplot(x=y1, y=x1,\n",
    "                 palette=[\"#cc0099\"\n",
    "                          if x=='Star Wars Ep. VII: The Force Awakens'\n",
    "                          or x=='Black Panther'\n",
    "                          or x=='Incredibles 2'\n",
    "                          or x=='The Avengers'\n",
    "                          or x=='Avengers: Infinity War'\n",
    "                          or x=='Beauty and the Beast'\n",
    "                          or x=='Rogue One: A Star Wars Story'\n",
    "                          or x=='Deadpool'\n",
    "                          or x=='Star Wars Ep. VIII: The Last Jedi'\n",
    "                          or x=='The Secret Life of Pets'\n",
    "                          or x=='Finding Dory'\n",
    "                          or x=='Captain Marvel'\n",
    "                          or x=='Frozen'\n",
    "                          or x=='Toy Story 3'\n",
    "                          or x=='Deadpool 2'\n",
    "                          or x=='Iron Man 3'\n",
    "                          else '#3333cc'\n",
    "                          if x=='Jurassic World'\n",
    "                          or x=='Furious 7'\n",
    "                          or x=='Jurassic World: Fallen Kingdom'\n",
    "                          or x=='Minions'\n",
    "                          or x=='Despicable Me 2'\n",
    "                          else '#e0e0eb' for x in mb_dp['movie']])\n",
    "\n",
    "ax.set_xlabel('Domestic Profits', fontsize=18, fontweight='bold', labelpad=14)\n",
    "ax.set_ylabel('Movies', fontsize=18, fontweight='bold', labelpad=(-10))\n",
    "ax.set_title('Top 30 Movies with Highest Domestic Profits 2010-2019', fontsize=30, fontweight='bold', pad=20)\n",
    "\n",
    "plt.xticks(ticks=[0,100000000,200000000,300000000,400000000,500000000,600000000],\n",
    "           labels=['0','100M', '200M', '300M', '400M', '500M', '600M'], fontsize=12)\n",
    "plt.yticks(fontsize=10)\n",
    "\n",
    "bv_label = mpatches.Patch(color='#cc0099', label='Buena Vista')\n",
    "up_label = mpatches.Patch(color='#3333cc', label='Universal Pictures')\n",
    "other_label = mpatches.Patch(color='#e0e0eb', label='Other Studios')\n",
    "ax.legend(handles=[bv_label, up_label, other_label], loc='center right', prop={'size':16});"
   ]
  },
  {
   "cell_type": "code",
   "execution_count": null,
   "metadata": {},
   "outputs": [],
   "source": [
    "## Bar chart of Top 30 Movies with Highest Worldwide Profits\n",
    "\n",
    "fig, ax = plt.subplots(figsize=(18,10), dpi=200)\n",
    "\n",
    "x2 = mb_wp['movie'][0:30]\n",
    "y2 = mb_wp['worldwide_profit'][0:30]\n",
    "\n",
    "\n",
    "# Buena Vista is MAGENTA\n",
    "# Universal Pictures is VIOLET\n",
    "ax = sns.barplot(x=y2, y=x2,\n",
    "                 palette=[\"#cc0099\"\n",
    "                          if x=='Star Wars Ep. VII: The Force Awakens'\n",
    "                          or x=='Black Panther'\n",
    "                          or x=='Incredibles 2'\n",
    "                          or x=='The Avengers'\n",
    "                          or x=='Avengers: Infinity War'\n",
    "                          or x=='Beauty and the Beast'\n",
    "                          or x=='Rogue One: A Star Wars Story'\n",
    "                          or x=='Deadpool'\n",
    "                          or x=='Star Wars Ep. VIII: The Last Jedi'\n",
    "                          or x=='The Secret Life of Pets'\n",
    "                          or x=='Finding Dory'\n",
    "                          or x=='Captain Marvel'\n",
    "                          or x=='Frozen'\n",
    "                          or x=='Toy Story 3'\n",
    "                          or x=='Deadpool 2'\n",
    "                          or x=='Iron Man 3'\n",
    "                          or x=='Frozen'\n",
    "                          or x=='Beauty and the Beast'\n",
    "                          or x=='Stars Wars Ep. VIII: The Last Jedi'\n",
    "                          or x=='Captain Marvel'\n",
    "                          or x=='Zootopia'\n",
    "                          or x=='Avengers: Age of Ultron'\n",
    "                          or x=='Captain America: Civil War'\n",
    "                          else '#3333cc'\n",
    "                          if x=='Jurassic World'\n",
    "                          or x=='Furious 7'\n",
    "                          or x=='Jurassic World: Fallen Kingdom'\n",
    "                          or x=='Minions'\n",
    "                          or x=='Despicable Me 2'\n",
    "                          or x=='The Fate of the Furious'\n",
    "                          or x=='Despicable Me 3'\n",
    "                          else '#e0e0eb' for x in mb_wp['movie']])\n",
    "\n",
    "ax.set_xlabel('Worldwide Profits', fontsize=18, fontweight='bold', labelpad=14)\n",
    "ax.set_ylabel('Movies', fontsize=18, fontweight='bold', labelpad=(-10))\n",
    "ax.set_title('Top 30 Movies with Highest Worldwide Profits 2010-2019', fontsize=30, fontweight='bold', pad=20)\n",
    "\n",
    "plt.xticks(ticks=[0,0.25e9,0.5e9,0.75e9,1e9,1.25e9,1.5e9,1.75e9],\n",
    "           labels=['0', '0.25B', '0.5B', '0.75B', '1B', '1.25B', '1.5B', '1.75B'], fontsize=12)\n",
    "plt.yticks(fontsize=10)\n",
    "\n",
    "bv_label = mpatches.Patch(color='#cc0099', label='Buena Vista')\n",
    "up_label = mpatches.Patch(color='#3333cc', label='Universal Pictures')\n",
    "other_label = mpatches.Patch(color='#e0e0eb', label='Other Studios')\n",
    "ax.legend(handles=[bv_label, up_label, other_label], loc='center right', prop={'size':16});"
   ]
  },
  {
   "cell_type": "markdown",
   "metadata": {},
   "source": [
    "**Final Observations & Insights:**\n",
    "<ul>\n",
    "    <li>The 10 movies with highest domestic profits from 2010-mid2019 are <b><i>Star Wars Ep. VII: The Force Awakens, Black Panther, Jurassic World, Incredibles 2, The Avengers, Avengers: Infinity War, Beauty and the Beast, Rogue One: A Star Wars Story, The Hunger Games, and Jumanji: Welcome to the Jungle.</i></b>\n",
    "    <li>The 10 movies with highest worldwide profits from 2010-mid2019 are <b><i>Avengers: Infinity War, Star Wars Ep. VII: The Force Awakens, Jurassic World, Furious 7, The Avengers, Harry Potter and the Deathly Hallows: Part II, Black Panther, Jurassic World: Fallen Kingdom, Frozen, and Beauty and the Beast.</i></b>\n",
    "    <li>The most frequently occuring genres of the Top 30 films are <b><i>Sci-fi, Action, Adventure, and Animation</i></b>, with most of them having a subgenre of <b><i>Superhero.</i></b>\n",
    "    <li>The majority of these films are part of the <b><i>Marvel</i></b> or <b><i>Star Wars</i></b> franchises.\n",
    "    <li>There has also been a huge focus on revitalizing or reimagining classics such as <b><i>Jurassic Park, James Bond, and Jumanji.</i></b>\n",
    "    <li>Many financially successful films are sequels such as <b><i>Star Wars Ep. VII, Avengers: Infinity War, Furious 7, Harry Potter and the Deathly Hallows: Parts I & II, and Incredibles 2</b></i>\n",
    "</ul>"
   ]
  },
  {
   "cell_type": "markdown",
   "metadata": {},
   "source": [
    "----"
   ]
  },
  {
   "cell_type": "markdown",
   "metadata": {},
   "source": [
    "## Aisha's Data Preparation & Analysis:"
   ]
  },
  {
   "cell_type": "code",
   "execution_count": null,
   "metadata": {},
   "outputs": [],
   "source": [
    "df_rt_movie_info.head(3)"
   ]
  },
  {
   "cell_type": "code",
   "execution_count": null,
   "metadata": {},
   "outputs": [],
   "source": [
    "df_rt_movie_info.shape"
   ]
  },
  {
   "cell_type": "code",
   "execution_count": null,
   "metadata": {},
   "outputs": [],
   "source": [
    "## Remove the month and day from the theater_date and create a new column with just the year of the release date\n",
    "df_rt_movie_info['new_theater_date'] = df_rt_movie_info.theater_date.str[-4:]"
   ]
  },
  {
   "cell_type": "code",
   "execution_count": null,
   "metadata": {},
   "outputs": [],
   "source": [
    "## Convert the values in the 'new_theater_date' column from strings to integers\n",
    "df_rt_movie_info['new_theater_date'] = df_rt_movie_info['new_theater_date'].apply(pd.to_numeric)"
   ]
  },
  {
   "cell_type": "code",
   "execution_count": null,
   "metadata": {},
   "outputs": [],
   "source": [
    "df_rt_movie_info.head(3)"
   ]
  },
  {
   "cell_type": "markdown",
   "metadata": {},
   "source": [
    "**Observations & Insights**\n",
    "<ul>\n",
    "</ul>\n",
    "<li>There are 494 out of 1560 rows that have a missing studio value"
   ]
  },
  {
   "cell_type": "code",
   "execution_count": null,
   "metadata": {},
   "outputs": [],
   "source": [
    "df_rt_movie_info['studio'].isna().value_counts()"
   ]
  },
  {
   "cell_type": "code",
   "execution_count": null,
   "metadata": {},
   "outputs": [],
   "source": [
    "## All the studios listed\n",
    "df_rt_movie_info['studio'].value_counts().head() "
   ]
  },
  {
   "cell_type": "code",
   "execution_count": null,
   "metadata": {},
   "outputs": [],
   "source": [
    "df_rt_reviews.head(10)"
   ]
  },
  {
   "cell_type": "code",
   "execution_count": null,
   "metadata": {},
   "outputs": [],
   "source": [
    "df_rt_reviews[df_rt_reviews['rating'].isna()]"
   ]
  },
  {
   "cell_type": "code",
   "execution_count": null,
   "metadata": {},
   "outputs": [],
   "source": [
    "## Remove all rows that have a null value in the 'rating' column\n",
    "df_rt_reviews = df_rt_reviews[df_rt_reviews['rating'].notna()]\n",
    "df_rt_reviews.shape"
   ]
  },
  {
   "cell_type": "code",
   "execution_count": null,
   "metadata": {},
   "outputs": [],
   "source": [
    "df_rt_reviews.loc[df_rt_reviews ['rating'] == 'T']"
   ]
  },
  {
   "cell_type": "code",
   "execution_count": null,
   "metadata": {},
   "outputs": [],
   "source": [
    "## Split the \"rating\" column into two separate columns, separating them on \"/\" if the rating is not a letter\n",
    "df_rt_reviews[['fn','sn']] = df_rt_reviews['rating'].str.split('/',expand=True)"
   ]
  },
  {
   "cell_type": "code",
   "execution_count": null,
   "metadata": {},
   "outputs": [],
   "source": [
    "df_rt_reviews.head()"
   ]
  },
  {
   "cell_type": "code",
   "execution_count": null,
   "metadata": {},
   "outputs": [],
   "source": [
    "## Replace the null values in the 'sn'(second number) with number 1. The row of the column 'sn' has a null value \n",
    "# only if the corresponding 'rating' column has a letter rating.\n",
    "df_rt_reviews['sn'] = df_rt_reviews.sn.apply(lambda x: x if not pd.isnull(x) else 1)"
   ]
  },
  {
   "cell_type": "code",
   "execution_count": null,
   "metadata": {},
   "outputs": [],
   "source": [
    "## Replace the letter ratings with the appropriate percentages\n",
    "# The letter ratings are: A+, A, A-, B+, B, B-, C+, C, C-, D+, D, D-, F+, F, F-\n",
    "# A+ gets 1, A gets 93.34, A- gets 86.68\n",
    "# B+ gets 80.02, B gets 73.36, B- gets 66.7, \n",
    "# C+ gets 60.04, C gets 53.38, C- gets 46.72\n",
    "# D+ gets 40.06, D gets 33.4, D- gets 26.74\n",
    "# F+ gets 20.08, F gets 13.42, F- gets 6.66\n",
    "df_rt_reviews['fn'] = df_rt_reviews['fn'].replace(['A+','A','A-','B+','B','B-','C+','C','C-','D+','D','D-','F+','F','F-'],[1,0.9334,0.8668,0.8002,0.7336,0.667,0.6004,0.5338,0.4672,0.4006,0.334,0.2674,0.2008,0.1342,0.666])"
   ]
  },
  {
   "cell_type": "code",
   "execution_count": null,
   "metadata": {},
   "outputs": [],
   "source": [
    "## Delete a row with an outlier value in the 'fn' column which is giving an error \n",
    "# when trying to convert all string values into numeric values\n",
    "df_rt_reviews = df_rt_reviews[df_rt_reviews.fn != 'N']\n",
    "df_rt_reviews = df_rt_reviews[df_rt_reviews.fn != 'R']\n",
    "df_rt_reviews = df_rt_reviews[df_rt_reviews.fn != '1-5']\n",
    "df_rt_reviews = df_rt_reviews[df_rt_reviews.fn != 'T']\n",
    "df_rt_reviews = df_rt_reviews[df_rt_reviews.fn != '3 1']"
   ]
  },
  {
   "cell_type": "code",
   "execution_count": null,
   "metadata": {},
   "outputs": [],
   "source": [
    "## Convert all string values in the 'fn' and 'sn' columns into numeric values\n",
    "df_rt_reviews['fn'] = df_rt_reviews['fn'].apply(pd.to_numeric)\n",
    "df_rt_reviews['sn'] = df_rt_reviews['sn'].apply(pd.to_numeric)"
   ]
  },
  {
   "cell_type": "code",
   "execution_count": null,
   "metadata": {},
   "outputs": [],
   "source": [
    "df_rt_reviews['new_rating'] = df_rt_reviews.apply(lambda row: row.fn/row.sn, axis=1)"
   ]
  },
  {
   "cell_type": "code",
   "execution_count": null,
   "metadata": {},
   "outputs": [],
   "source": [
    "## Delete rows that have a new_rating value higher than 1\n",
    "df_rt_reviews = df_rt_reviews[df_rt_reviews.new_rating <=1]"
   ]
  },
  {
   "cell_type": "code",
   "execution_count": null,
   "metadata": {},
   "outputs": [],
   "source": [
    "df_rt_reviews.head()"
   ]
  },
  {
   "cell_type": "code",
   "execution_count": null,
   "metadata": {},
   "outputs": [],
   "source": [
    "## Create a new dataset with only 'id' and 'new_rating' columns of the 'df_rt_reviews' dataset\n",
    "# so we can merge it later on with the 'df_rt_movie_info' dataset.\n",
    "new_rt_reviews = pd.DataFrame(zip(df_rt_reviews.id, df_rt_reviews.new_rating))"
   ]
  },
  {
   "cell_type": "code",
   "execution_count": null,
   "metadata": {},
   "outputs": [],
   "source": [
    "## Rename the columns back to original names\n",
    "new_rt_reviews.rename(columns={0: 'id', 1: 'rating'}, inplace=True)"
   ]
  },
  {
   "cell_type": "code",
   "execution_count": null,
   "metadata": {},
   "outputs": [],
   "source": [
    "new_rt_reviews.head()"
   ]
  },
  {
   "cell_type": "code",
   "execution_count": null,
   "metadata": {},
   "outputs": [],
   "source": [
    "df_rt_movie_info.head()"
   ]
  },
  {
   "cell_type": "code",
   "execution_count": null,
   "metadata": {},
   "outputs": [],
   "source": [
    "new_rt_movie_info = pd.DataFrame(zip(df_rt_movie_info.id,\n",
    "                                     df_rt_movie_info.genre,\n",
    "                                     df_rt_movie_info.runtime,\n",
    "                                     df_rt_movie_info.new_theater_date))"
   ]
  },
  {
   "cell_type": "code",
   "execution_count": null,
   "metadata": {},
   "outputs": [],
   "source": [
    "new_rt_movie_info.head()"
   ]
  },
  {
   "cell_type": "code",
   "execution_count": null,
   "metadata": {},
   "outputs": [],
   "source": [
    "# Rename the columns back to original names\n",
    "new_rt_movie_info.rename(columns={0: 'id', 1: 'genres', 2: 'runtime', 3: 'release_year'}, inplace=True)"
   ]
  },
  {
   "cell_type": "code",
   "execution_count": null,
   "metadata": {},
   "outputs": [],
   "source": [
    "new_rt_movie_info.head()"
   ]
  },
  {
   "cell_type": "code",
   "execution_count": null,
   "metadata": {},
   "outputs": [],
   "source": [
    "# Left join the new_rt_movie_info to new_rt_reviews\n",
    "merged_datasets = pd.merge(new_rt_reviews,new_rt_movie_info,on='id',how='left')"
   ]
  },
  {
   "cell_type": "code",
   "execution_count": null,
   "metadata": {},
   "outputs": [],
   "source": [
    "merged_datasets.head()"
   ]
  },
  {
   "cell_type": "code",
   "execution_count": null,
   "metadata": {},
   "outputs": [],
   "source": [
    "## First step in splitting the genres of each row into separate rows for each genre of each movie\n",
    "## Create a list out of each genres string such as this: 'Action and Adventure|Classics|Drama'\n",
    "merged_datasets['genres']=merged_datasets['genres'].str.split('|')\n",
    "\n",
    "## Second step in splitting the genres of each row into separate rows for each genre of each movie\n",
    "merged_datasets = merged_datasets.explode('genres')\n",
    "\n",
    "# Get rid of text characters in the 'runtime' column \n",
    "merged_datasets['runtime'] = merged_datasets['runtime'].str.replace(' minutes','')\n",
    "\n",
    "# Convert the 'runtime' column's string values into floats\n",
    "merged_datasets['runtime'] = pd.to_numeric(merged_datasets['runtime'])\n",
    "\n",
    "merged_datasets.info()"
   ]
  },
  {
   "cell_type": "code",
   "execution_count": null,
   "metadata": {},
   "outputs": [],
   "source": [
    "## Explore movie genre trends over the years\n",
    "\n",
    "merged_datasets['genres'].value_counts()\n",
    "merged_datasets = merged_datasets[merged_datasets['release_year']>1999]\n",
    "merged_datasets['release_year'].value_counts()\n",
    "merged_datasets_drama = merged_datasets[merged_datasets['genres']=='Drama']\n",
    "merged_datasets_comedy = merged_datasets[merged_datasets['genres']=='Comedy']\n",
    "merged_datasets_action_adv= merged_datasets[merged_datasets['genres']=='Action and Adventure']\n",
    "merged_datasets_animation= merged_datasets[merged_datasets['genres']=='Animation']\n",
    "merged_datasets_romance= merged_datasets[merged_datasets['genres']=='Romance']"
   ]
  },
  {
   "cell_type": "code",
   "execution_count": null,
   "metadata": {},
   "outputs": [],
   "source": [
    "## Make separate dataframes by value counts in each genre\n",
    "\n",
    "df_drama = merged_datasets_drama.groupby('release_year')['genres'].value_counts()\n",
    "df_comedy = merged_datasets_comedy.groupby('release_year')['genres'].value_counts()\n",
    "df_action_adv = merged_datasets_action_adv.groupby('release_year')['genres'].value_counts()\n",
    "df_animation = merged_datasets_animation.groupby('release_year')['genres'].value_counts()\n",
    "df_romance = merged_datasets_romance.groupby('release_year')['genres'].value_counts()"
   ]
  },
  {
   "cell_type": "code",
   "execution_count": null,
   "metadata": {},
   "outputs": [],
   "source": [
    "## Convert dataframes to lists\n",
    "\n",
    "mylist_drama = df_drama.to_list()\n",
    "mylist_comedy = df_comedy.to_list()\n",
    "mylist_action_adv = df_action_adv.to_list()\n",
    "mylist_action_adv = [528,241,504,385,598,916,607,534,566,451,435,501,516,25,0,112,131,11,366]\n",
    "mylist_animation = df_animation.to_list()\n",
    "mylist_animation = [85, 76, 99, 53, 160, 66, 71, 129, 189, 164, 16, 213,0,0,0, 48, 234, 39, 92]\n",
    "mylist_romance = df_romance.to_list()\n",
    "mylist_romance = [141,175,498,428,154,458,248,410,307,119,480,334,0,65,94,248,147,165,170]"
   ]
  },
  {
   "cell_type": "code",
   "execution_count": null,
   "metadata": {},
   "outputs": [],
   "source": [
    "years_list = list(range(2000,2019))"
   ]
  },
  {
   "cell_type": "code",
   "execution_count": null,
   "metadata": {},
   "outputs": [],
   "source": [
    "from matplotlib.pyplot import figure"
   ]
  },
  {
   "cell_type": "code",
   "execution_count": null,
   "metadata": {},
   "outputs": [],
   "source": [
    "## Plot\n",
    "plt.figure(figsize=(30, 15))\n",
    "plt.plot(years_list, mylist_drama, marker='o',\n",
    "         color='skyblue', linewidth=2, linestyle='solid', label=\"Drama\")\n",
    "plt.plot(years_list, mylist_comedy, marker='o',\n",
    "         color='orange', linewidth=2, linestyle='solid', label=\"Comedy\")\n",
    "plt.plot(years_list, mylist_action_adv, marker='o',\n",
    "         color='fuchsia', linewidth=2, linestyle='solid', label=\"Action\")\n",
    "plt.plot(years_list, mylist_animation, marker='o',\n",
    "         color='purple', linewidth=2, linestyle='dashdot', label=\"Animation\")\n",
    "plt.plot(years_list, mylist_romance, marker='o',\n",
    "         color='green', linewidth=2, linestyle='dashed', label=\"Romance\")\n",
    "plt.legend(borderpad = 2, prop={\"size\":20})\n",
    "plt.xticks(fontsize=16)\n",
    "plt.yticks(fontsize=16)\n",
    "plt.locator_params(axis=\"x\", nbins=10)\n",
    "plt.title(\"Movie Genre Trend 2000-2008\", fontsize=30, fontweight='bold', pad=20)\n",
    "plt.xlabel(\"Year\", fontsize=20, fontweight='bold', labelpad=10)\n",
    "plt.ylabel(\"Number of Movies Produced\", fontsize=20, fontweight='bold', labelpad=10);"
   ]
  },
  {
   "cell_type": "code",
   "execution_count": null,
   "metadata": {},
   "outputs": [],
   "source": [
    "merged_datasets['genres'].value_counts()"
   ]
  },
  {
   "cell_type": "markdown",
   "metadata": {},
   "source": [
    "**Observations & Insights:**\n",
    "<ul>\n",
    "</ul>\n",
    "<li>The last four genre categories are too low in numbers compared to other movie genres.\n",
    "<li>We think it is best to remove them from our dataset."
   ]
  },
  {
   "cell_type": "code",
   "execution_count": null,
   "metadata": {},
   "outputs": [],
   "source": [
    "## Create a list of genres that are not statistically significant\n",
    "not_significant_genres_list = ['Anime and Manga','Gay and Lesbian','Cult Movies','Faith and Spirituality','Television','Sports and Fitness','Documentary','Western','Special Interest']"
   ]
  },
  {
   "cell_type": "code",
   "execution_count": null,
   "metadata": {},
   "outputs": [],
   "source": [
    "## Delete the not statistically insignificant genres from the dataset and creating a new dataset without those genres\n",
    "new_merged_datasets = merged_datasets[~merged_datasets.genres.isin(not_significant_genres_list)]"
   ]
  },
  {
   "cell_type": "code",
   "execution_count": null,
   "metadata": {},
   "outputs": [],
   "source": [
    "## Find the mean of runtime for each genre\n",
    "average_runtime_per_genre = new_merged_datasets.groupby('genres', as_index=False)['runtime'].mean()\n",
    "\n",
    "## Rename the 'runtime' column into the 'mean_runtime'\n",
    "average_runtime_per_genre.rename(columns={'runtime': 'mean_runtime'}, inplace=True)\n",
    "\n",
    "average_runtime_per_genre"
   ]
  },
  {
   "cell_type": "code",
   "execution_count": null,
   "metadata": {},
   "outputs": [],
   "source": [
    "# Find the mean of the ratings for each genre\n",
    "average_rating_per_genre = new_merged_datasets.groupby('genres', as_index=False)['rating'].mean()\n",
    "\n",
    "## Rename the \"rating\" column into the 'mean_rating'\n",
    "average_rating_per_genre.rename(columns={'rating': 'mean_rating'}, inplace=True)\n",
    "\n",
    "average_rating_per_genre"
   ]
  },
  {
   "cell_type": "code",
   "execution_count": null,
   "metadata": {},
   "outputs": [],
   "source": [
    "## Plot\n",
    "fig, ax1 = plt.subplots(figsize = (20,8))\n",
    "x1 = average_rating_per_genre['genres']\n",
    "y1 = average_rating_per_genre['mean_rating']\n",
    "ax1.bar(x1,y1)\n",
    "ax1.set_title('Average Rating per Genre', fontsize=30, fontweight='bold', pad=20)\n",
    "ax1.set_xlabel('Genre', fontsize=20, fontweight='bold', labelpad=10)\n",
    "ax1.set_ylabel('Average Rating', fontsize=20, fontweight='bold', labelpad=10)\n",
    "plt.xticks(rotation = 45, fontsize=16)\n",
    "plt.yticks(fontsize=16);"
   ]
  },
  {
   "cell_type": "markdown",
   "metadata": {},
   "source": [
    "**Observations & Insights:**\n",
    "<ul>\n",
    "</ul>\n",
    "The 4 genres that have the highest average ratings:\n",
    "        <li> Romance </li>\n",
    "        <li> Art House and International </li>\n",
    "        <li> Drama </li>\n",
    "        <li> Mystery and Suspense </li>"
   ]
  },
  {
   "cell_type": "code",
   "execution_count": null,
   "metadata": {},
   "outputs": [],
   "source": [
    "# Create a list of the four genres with the highest rating\n",
    "four_genres_list = ['Romance','Art House and International','Drama','Mystery and Suspense']\n",
    "\n",
    "# Create a dataset with only the four genres with the highest ratings\n",
    "highest_rating_genres_dataset = merged_datasets[merged_datasets.genres.isin(four_genres_list)]\n",
    "\n",
    "highest_rating_genres_dataset['genres'].value_counts()"
   ]
  },
  {
   "cell_type": "code",
   "execution_count": null,
   "metadata": {},
   "outputs": [],
   "source": [
    "# The mean of runtime for the four highest rated genres\n",
    "highest_rating_genres_dataset['runtime'].mean()\n",
    "\n",
    "# Standard deviation from the mean for the four highest rated genres\n",
    "highest_rating_genres_dataset['runtime'].std()\n",
    "\n",
    "# Average runtime for each of the four highest rating genres\n",
    "avg_runtime_high_rating_genres = highest_rating_genres_dataset.groupby('genres', as_index=False)['runtime'].mean()\n",
    "\n",
    "# Rename the 'runtime' column of the new dataset into the \"mean_runtime\" \n",
    "avg_runtime_high_rating_genres.rename(columns={'runtime': 'mean_runtime'}, inplace=True)\n",
    "\n",
    "avg_runtime_high_rating_genres"
   ]
  },
  {
   "cell_type": "code",
   "execution_count": null,
   "metadata": {},
   "outputs": [],
   "source": [
    "## Plot\n",
    "fig, ax2 = plt.subplots(figsize = (12,6))\n",
    "x2 = avg_runtime_high_rating_genres['genres']\n",
    "y2 = avg_runtime_high_rating_genres['mean_runtime']\n",
    "ax2.bar(x2,y2)\n",
    "ax2.set_title('Average Runtime per Genre')\n",
    "ax2.set_xlabel('Genre')\n",
    "ax2.set_ylabel('Average Rating')\n",
    "plt.xticks(rotation = 45);"
   ]
  },
  {
   "cell_type": "markdown",
   "metadata": {},
   "source": [
    "----"
   ]
  },
  {
   "cell_type": "markdown",
   "metadata": {},
   "source": [
    "## Adonis's Data Preparation & Analysis"
   ]
  },
  {
   "cell_type": "code",
   "execution_count": null,
   "metadata": {},
   "outputs": [],
   "source": [
    "df_gross.head()"
   ]
  },
  {
   "cell_type": "code",
   "execution_count": null,
   "metadata": {},
   "outputs": [],
   "source": [
    "## Find null values\n",
    "df_gross['domestic_gross'].isnull().value_counts()"
   ]
  },
  {
   "cell_type": "code",
   "execution_count": null,
   "metadata": {},
   "outputs": [],
   "source": [
    "df_gross['foreign_gross'].isnull().value_counts()"
   ]
  },
  {
   "cell_type": "code",
   "execution_count": null,
   "metadata": {},
   "outputs": [],
   "source": [
    "df_gross.info()"
   ]
  },
  {
   "cell_type": "code",
   "execution_count": null,
   "metadata": {},
   "outputs": [],
   "source": [
    "## Remove commas from values & convert to numeric\n",
    "df_gross['foreign_gross'] = df_gross['foreign_gross'].str.replace(',', '')\n",
    "df_gross['foreign_gross'] = pd.to_numeric(df_gross['foreign_gross'])\n",
    "df_gross['foreign_gross'].head() "
   ]
  },
  {
   "cell_type": "code",
   "execution_count": null,
   "metadata": {},
   "outputs": [],
   "source": [
    "## Remove null values from columns\n",
    "df_gross.dropna(subset=['studio', 'domestic_gross', 'foreign_gross'], inplace=True)\n",
    "df_gross.shape"
   ]
  },
  {
   "cell_type": "code",
   "execution_count": null,
   "metadata": {},
   "outputs": [],
   "source": [
    "## Verification of null value deletion\n",
    "df_gross.info()"
   ]
  },
  {
   "cell_type": "markdown",
   "metadata": {},
   "source": [
    "**Observations & Insights:**\n",
    "<ul></ul>\n",
    "<li>Do the studios that produce the most movies have the highest gross values?"
   ]
  },
  {
   "cell_type": "code",
   "execution_count": null,
   "metadata": {},
   "outputs": [],
   "source": [
    "## Top 10 studios with the most movies\n",
    "df_gross['studio'].value_counts()[:10]"
   ]
  },
  {
   "cell_type": "code",
   "execution_count": null,
   "metadata": {},
   "outputs": [],
   "source": [
    "x = list(df_gross['studio'].value_counts()[:10].index)\n",
    "x"
   ]
  },
  {
   "cell_type": "code",
   "execution_count": null,
   "metadata": {},
   "outputs": [],
   "source": [
    "## Top 10 studios domestic gross\n",
    "dfm2 = df_gross.groupby(['studio']).domestic_gross.sum().reset_index().sort_values(by='domestic_gross', ascending=False)\n",
    "d = dfm2[dfm2['studio'].isin(x)]"
   ]
  },
  {
   "cell_type": "markdown",
   "metadata": {},
   "source": [
    "**Observations & Insights:**\n",
    "<ul></ul>\n",
    "<li>Data analysis will focus on domestic and foreign gross for titles and studios."
   ]
  },
  {
   "cell_type": "code",
   "execution_count": null,
   "metadata": {},
   "outputs": [],
   "source": [
    "## Total gross for each film\n",
    "df_gross['total_gross'] = df_gross['domestic_gross'] + df_gross['foreign_gross']\n",
    "df_gross.head()"
   ]
  },
  {
   "cell_type": "code",
   "execution_count": null,
   "metadata": {},
   "outputs": [],
   "source": [
    "## Sort by domestic gross\n",
    "f = df_gross.sort_values(by='domestic_gross', ascending=False)\n",
    "\n",
    "f.head()"
   ]
  },
  {
   "cell_type": "markdown",
   "metadata": {},
   "source": [
    "**Observations & Insights:**\n",
    "<ul></ul>\n",
    "<li>Some foreign gross values seem wrong for blockbuster films. Are there more?"
   ]
  },
  {
   "cell_type": "code",
   "execution_count": null,
   "metadata": {},
   "outputs": [],
   "source": [
    "## Sort df on foreign gross\n",
    "g = df_gross.sort_values(by='foreign_gross', ascending=False)\n",
    "g.head(20)"
   ]
  },
  {
   "cell_type": "code",
   "execution_count": null,
   "metadata": {},
   "outputs": [],
   "source": [
    "## Check for more misreported foreign gross\n",
    "g.tail(20)"
   ]
  },
  {
   "cell_type": "markdown",
   "metadata": {},
   "source": [
    "**Observations & Insights:**\n",
    "<ul></ul>\n",
    "<li>Foreign gross values for some blockbusters are misreported.\n",
    "<li>Analysis will focus on domestic markets, as foreign gross values cannot be verified/trusted."
   ]
  },
  {
   "cell_type": "code",
   "execution_count": null,
   "metadata": {},
   "outputs": [],
   "source": [
    "## Plots\n",
    "\n",
    "# Domestic gross per title\n",
    "fig, (ax1, ax2, ax3) = plt.subplots(ncols=3, figsize=(25,8), dpi=200)\n",
    "\n",
    "x1 = f['title'][:10]\n",
    "y1 = f['domestic_gross'][:10]\n",
    "ax1.barh(x1, y1)\n",
    "ax1.set_xticks([0,200000000, 400000000, 600000000, 800000000, 1000000000])\n",
    "ax1.set_xticklabels(['0','200M', '400M', '600M', '800M', '1B'], fontsize=20)\n",
    "ax1.set_yticklabels(labels=f.title[:10], fontsize=20)\n",
    "ax1.set_xlabel(\"Domestic Gross\", fontsize=20)\n",
    "ax1.set_ylabel(\"Movie Title\", fontsize=20)\n",
    "ax1.set_title(\"Domestic Gross per Movie\", fontsize=20)\n",
    "\n",
    "\n",
    "# Domestic gross per studio\n",
    "dfm3 = df_gross.groupby(['studio']).domestic_gross.sum().reset_index().sort_values(by='domestic_gross', ascending=False)\n",
    "\n",
    "\n",
    "x2 = dfm3.studio[:10]\n",
    "y2 = dfm3.domestic_gross[:10]\n",
    "ax2.barh(x2, y2)\n",
    "ax2.set_xticks([0,2500000000, 5000000000, 7500000000, 10000000000, 12500000000, 15000000000, 17500000000])\n",
    "ax2.set_xticklabels(['0','2.5B', '5B', '7.5B', '10B', '12.5B', '15B', '17.5B'], fontsize=20)\n",
    "ax2.set_yticklabels(labels=dfm3.studio[:10], fontsize=20)\n",
    "ax2.set_xlabel('Domestic Gross', fontsize=20)\n",
    "ax2.set_ylabel('Studio', fontsize=20)\n",
    "ax2.set_title('Top 10 Highest Domestic Grossing Studios', fontsize=20)\n",
    "\n",
    "# Domestic gross for studios with most films\n",
    "x = ['Uni.', 'Fox', 'WB', 'Sony', 'BV', 'Par.', 'LGF', 'Wein.', 'IFC', 'SPC']\n",
    "\n",
    "\n",
    "x3 = d['studio']\n",
    "y3 = d['domestic_gross']\n",
    "ax3.barh(x3, y3)\n",
    "ax3.set_xticks([0,2500000000, 5000000000, 7500000000, 10000000000, 12500000000, 15000000000, 17500000000])\n",
    "ax3.set_xticklabels(['0','2.5B', '5B', '7.5B', '10B', '12.5B', '15B', '17.5B'], fontsize=20)\n",
    "ax3.set_yticklabels(labels=d.studio, fontsize=20)\n",
    "ax3.set_xlabel(\"Domestic Gross\", fontsize=20)\n",
    "ax3.set_ylabel(\"Studio\", fontsize=20)\n",
    "ax3.set_title('Total Domestic Gross for Studio with Most Films', fontsize=20)\n",
    "\n",
    "fig.tight_layout();"
   ]
  },
  {
   "cell_type": "markdown",
   "metadata": {},
   "source": [
    "**Observations & Insights:**\n",
    "<ul></ul>\n",
    "<li>Most of these studios are subsidiaries of a parent company.\n",
    "<li>Should Microsoft acquire studios for its content production?"
   ]
  },
  {
   "cell_type": "code",
   "execution_count": null,
   "metadata": {},
   "outputs": [],
   "source": [
    "## List of unique studios. Used to create sample list for parent companies\n",
    "df_gross['studio'].unique()"
   ]
  },
  {
   "cell_type": "code",
   "execution_count": null,
   "metadata": {},
   "outputs": [],
   "source": [
    "## Sample list of studios owned by parent companies\n",
    "Disney = ['BV', 'Fox', 'FoxS', 'W/Dim.']\n",
    "Comcast = ['Uni', 'P/DW', 'Focus']\n",
    "TimeWarner = ['WB', 'WB (NL)']\n",
    "Viacom = ['CBS', 'P/DW', 'Mira', 'ParV']\n",
    "Sony = ['SPC', 'Sony', 'TriS']\n",
    "MiniMajors = ['RAtt.', 'Rela.']"
   ]
  },
  {
   "cell_type": "code",
   "execution_count": null,
   "metadata": {},
   "outputs": [],
   "source": [
    "## Simplified DFs to calculate total domestic gross from studios\n",
    "Disney_df = dfm2[dfm2['studio'].isin(Disney)]\n",
    "Comcast_df = dfm2[dfm2['studio'].isin(Comcast)]\n",
    "TimeWarner_df = dfm2[dfm2['studio'].isin(TimeWarner)]\n",
    "Viacom_df = dfm2[dfm2['studio'].isin(Viacom)]\n",
    "Sony_df = dfm2[dfm2['studio'].isin(Sony)]\n",
    "Mini_df = dfm2[dfm2['studio'].isin(MiniMajors)]"
   ]
  },
  {
   "cell_type": "code",
   "execution_count": null,
   "metadata": {},
   "outputs": [],
   "source": [
    "## Plot of total domestic gross per parent company (hard coded)\n",
    "fig, ax = plt.subplots(figsize=(18,10))\n",
    "\n",
    "n = ['Disney', 'TimeWarner', 'Sony', 'Comcast', 'Viacom', 'MiniMajors']\n",
    "m = [Disney_df['domestic_gross'].sum(), TimeWarner_df['domestic_gross'].sum(),\n",
    "     Sony_df['domestic_gross'].sum(), Comcast_df['domestic_gross'].sum(),  \n",
    "     Viacom_df['domestic_gross'].sum(),  Mini_df['domestic_gross'].sum()]\n",
    "\n",
    "plt.bar(n, m)\n",
    "plt.xticks(ticks=n, labels=n, fontsize=20)\n",
    "plt.yticks(ticks=[0,5000000000, 10000000000, 15000000000, 20000000000, 25000000000, 30000000000],\n",
    "           labels=['0','5B', '10B', '15B', '20B', '25B', '30B'], fontsize=20)\n",
    "ax.set_xlabel(\"Parent Company\", fontsize=20)\n",
    "ax.set_xlabel(\"Parent Company\", fontsize=20)\n",
    "ax.set_ylabel(\"Total Subsidiary Gross\", fontsize=20)\n",
    "ax.set_title(\"Total Domestic Gross for Parent Companies\", fontsize=20);\n",
    "\n",
    "plt.tight_layout()"
   ]
  },
  {
   "cell_type": "markdown",
   "metadata": {},
   "source": [
    "**Final Observations & Insights**\n",
    "<ul>\n",
    "    <li> Owning multiple studios that produce content yields incredible profits domestically. Microsoft should seek to acquire multiple production studios to create varied content.\n",
    "    <li> The highest grossing films are all franchises (Marvel, Jurassic Park, Star Wars, etc). It is highly recommended that any action films made be based upon Microsoft franchises to avoid licensure/copyright fees.\n",
    "</ul>"
   ]
  },
  {
   "cell_type": "markdown",
   "metadata": {},
   "source": [
    "----"
   ]
  },
  {
   "cell_type": "markdown",
   "metadata": {
    "collapsed": true
   },
   "source": [
    "## Deja's Data Preparation & Analysis"
   ]
  },
  {
   "cell_type": "code",
   "execution_count": null,
   "metadata": {},
   "outputs": [],
   "source": [
    "# Display dataframe\n",
    "display(movie_type)\n",
    "display(movie_type.info())"
   ]
  },
  {
   "cell_type": "markdown",
   "metadata": {},
   "source": [
    "**Observations & Insights:**\n",
    "<ul></ul>\n",
    "<li>There are 26517 total entries with 0 missing values.\n",
    "<li>The vote count needs to be reduced to a more relevant number and discard outliers like 1.\n",
    "<li>Genre IDs need to be translated into genre names.\n",
    "<li>There are lots of foreign films, and we are currently only interested in English-language films.\n",
    "<li>There are duplicate titles."
   ]
  },
  {
   "cell_type": "code",
   "execution_count": null,
   "metadata": {},
   "outputs": [],
   "source": [
    "# Show when movies were released\n",
    "movie_type.sort_values(by='release_date', ascending=False)"
   ]
  },
  {
   "cell_type": "code",
   "execution_count": null,
   "metadata": {},
   "outputs": [],
   "source": [
    "## Filter for movies in English\n",
    "movie_type = movie_type.loc[movie_type['original_language'] == \"en\"]\n",
    "\n",
    "## Condense data to get most voted on movies\n",
    "movie_type_data = movie_type.loc[movie_type['vote_count'] >= 10000]"
   ]
  },
  {
   "cell_type": "code",
   "execution_count": null,
   "metadata": {},
   "outputs": [],
   "source": [
    "movie_type_data[\"genre_ids\"].iloc[0]"
   ]
  },
  {
   "cell_type": "code",
   "execution_count": null,
   "metadata": {},
   "outputs": [],
   "source": [
    "## Separate genre ids with multiple values\n",
    "movie_type_data.genre_ids = movie_type_data.genre_ids.map(lambda x:eval(x))"
   ]
  },
  {
   "cell_type": "code",
   "execution_count": null,
   "metadata": {},
   "outputs": [],
   "source": [
    "movie_type_data = movie_type_data.explode(\"genre_ids\")"
   ]
  },
  {
   "cell_type": "code",
   "execution_count": null,
   "metadata": {},
   "outputs": [],
   "source": [
    "## Filter out genres with few votes\n",
    "movie_type_data= movie_type_data.loc[movie_type_data['genre_ids'] <= 878]\n",
    "movie_type_data"
   ]
  },
  {
   "cell_type": "code",
   "execution_count": null,
   "metadata": {},
   "outputs": [],
   "source": [
    "movie_type_data[\"genre_ids\"].replace(\n",
    "    {12: \"Adventure\",\n",
    "     14: \"Fantasy\",\n",
    "     16: \"Animated\",\n",
    "     18: \"Drama\",\n",
    "     27: \"Horror\",\n",
    "     28: \"Action\",\n",
    "     35: \"Comedy\",\n",
    "     36: \"History\",\n",
    "     37: \"Western\",\n",
    "     53: \"Thriller\",\n",
    "     80: \"Crime\",\n",
    "     878: \"Sci-fi\"}, inplace=True)"
   ]
  },
  {
   "cell_type": "code",
   "execution_count": null,
   "metadata": {},
   "outputs": [],
   "source": [
    "## Create a violin plot to display the relationship between vote averages and genres\n",
    "sns.set_theme(style=\"ticks\", color_codes=True)\n",
    "g = sns.catplot(x=movie_type_data[\"genre_ids\"].astype(\"category\"),\n",
    "                y=\"vote_average\",\n",
    "                kind=\"violin\",\n",
    "                inner=None,\n",
    "                data=movie_type_data)\n",
    "sns.swarmplot(x=\"genre_ids\", y=\"vote_average\", color=\"k\", size=3, data=movie_type_data, ax=g.ax)\n",
    "g.set_xticklabels(rotation=45)\n",
    "ax.set_title(\"Votes by Genre\")\n",
    "ax.set_ylabel(\"Vote Average\")\n",
    "ax.set_xlabel(\"Genre\");"
   ]
  },
  {
   "cell_type": "markdown",
   "metadata": {},
   "source": [
    "**Final Observations & Insights:**\n",
    "<ul></ul>\n",
    "<li>Focus of resources should be towards action, adventure, fantasy, sci-fi, comedy and animated movies.\n",
    "<li>While animated has the highest rating, the other 5 categories have higher volumes of consumer interaction."
   ]
  },
  {
   "cell_type": "markdown",
   "metadata": {},
   "source": [
    "----"
   ]
  },
  {
   "cell_type": "markdown",
   "metadata": {},
   "source": [
    "## James's Data Preparation & Analysis"
   ]
  },
  {
   "cell_type": "code",
   "execution_count": null,
   "metadata": {},
   "outputs": [],
   "source": [
    "## Display dataframes\n",
    "display(title_ratings)\n",
    "display(title_basics)\n",
    "display(title_akas)"
   ]
  },
  {
   "cell_type": "code",
   "execution_count": null,
   "metadata": {
    "scrolled": true
   },
   "outputs": [],
   "source": [
    "## Set tconst as index for joining 3 separate dataframes\n",
    "title_ratings.set_index('tconst', inplace = True)\n",
    "title_basics.set_index('tconst', inplace =True)\n",
    "\n",
    "## Rename title_id to tconst to join this data frame into our main data frame\n",
    "title_akas.rename(columns={'title_id':'tconst'}, inplace=True)\n",
    "title_akas.set_index('tconst', inplace=True)\n",
    "\n",
    "## Complete first join between title_ratings and title_basics\n",
    "merged1 = title_ratings.join(title_basics, on='tconst', how='inner')\n",
    "\n",
    "## Complete second join between the above result and title_akas\n",
    "imdb_data = merged1.join(title_akas, on='tconst', how='inner')\n",
    "\n",
    "## Since there are lots of missing data and irrelevant data, the data is filtered with only US region\n",
    "imdb_US_movie = imdb_data[imdb_data['region'] == 'US'].copy()\n",
    "\n",
    "## Sort in descending order\n",
    "imdb_US_movie = imdb_US_movie.sort_values(by=['numvotes'], ascending=False).copy()\n",
    "\n",
    "## Drop all duplicate titles from the dataframe\n",
    "imdb_US_movie = imdb_US_movie.drop_duplicates(subset=['original_title'], keep ='first').copy()\n",
    "\n",
    "## Filter out irrelevant columns in our dataframe\n",
    "## Set the index to title\n",
    "imdb_US_movie = imdb_US_movie.set_index('primary_title').copy()\n",
    "imdb_US_movie = imdb_US_movie[['averagerating', 'numvotes', 'start_year', 'runtime_minutes', 'genres']].copy()\n",
    "imdb_US_movie.head()"
   ]
  },
  {
   "cell_type": "code",
   "execution_count": null,
   "metadata": {},
   "outputs": [],
   "source": [
    "mean = imdb_US_movie['numvotes'].mean()\n",
    "median = imdb_US_movie['numvotes'].median()\n",
    "print(f'mean is {mean} and median is {median}')"
   ]
  },
  {
   "cell_type": "markdown",
   "metadata": {},
   "source": [
    "**Observations & Insights:**\n",
    "<ul></ul>\n",
    "<li>The mean vote counts is significantly larger than the median. This means the data is extremely skewed right.\n",
    "<li>Therefore we will use the upper quantiles of this data since movies with lower ratings are not significant in our analysis"
   ]
  },
  {
   "cell_type": "code",
   "execution_count": null,
   "metadata": {},
   "outputs": [],
   "source": [
    "## We will consider top 10 and top 1 percent of the data by vote counts\n",
    "ten_percentile = imdb_US_movie['numvotes'].quantile(.90)\n",
    "one_percentile = imdb_US_movie['numvotes'].quantile(.99)\n",
    "\n",
    "print(\"top 10 percentile:\", round(ten_percentile))\n",
    "print(\"top 1 percentile:\", round(one_percentile))"
   ]
  },
  {
   "cell_type": "code",
   "execution_count": null,
   "metadata": {
    "scrolled": true
   },
   "outputs": [],
   "source": [
    "## Movies filtered based on the top 10 percentile of vote counts\n",
    "top_10_percent = imdb_US_movie[(imdb_US_movie['numvotes']>=5795)].reset_index().copy()\n",
    "\n",
    "## Divide up multiple genres for a single movie into a separate row\n",
    "top_10_percent.loc[:,('genres')] = top_10_percent.loc[:,('genres')].str.split(',')\n",
    "top_10 = top_10_percent.explode('genres')\n",
    "\n",
    "## Filter out top 5 genres of movie counts within the 10 percentile\n",
    "genres_count_10_percent = pd.DataFrame(top_10['genres'].value_counts())\n",
    "genres_count_10_percent = genres_count_10_percent.head()\n",
    "\n",
    "## Create a table with average number of votes for top five movie genre counts\n",
    "genres_avgvotes_10 = pd.DataFrame(top_10.groupby('genres')['numvotes'].mean().sort_values(ascending=False))\n",
    "genres_avgvotes_10 = genres_avgvotes_10.reset_index()\n",
    "genres_avgvotes_10 = genres_avgvotes_10[genres_avgvotes_10['genres'].isin(['Drama','Comedy','Action','Thriller','Adventure'])]\n",
    "genres_avgvotes_10.set_index('genres', inplace=True)\n",
    "\n",
    "## Join the movie counts and average number of votes by genre\n",
    "top10 = genres_count_10_percent.join(genres_avgvotes_10)\n",
    "top10.rename(columns={'genres':'movie counts'}, inplace=True)\n",
    "top10 = top10.reset_index().rename(columns={'index':'movie genre'})\n",
    "top10"
   ]
  },
  {
   "cell_type": "code",
   "execution_count": null,
   "metadata": {
    "scrolled": true
   },
   "outputs": [],
   "source": [
    "## Repeat all the steps above to gather top 1 percentile of number of votes\n",
    "top_1_percent = imdb_US_movie[(imdb_US_movie['numvotes']>=223993)].reset_index().copy()\n",
    "top_1_percent.loc[:,('genres')] = top_1_percent.loc[:,('genres')].str.split(',')\n",
    "top_1 = top_1_percent.explode('genres')\n",
    "genres_count_1percent = pd.DataFrame(top_1['genres'].value_counts())\n",
    "genres_count_1 = genres_count_1percent.head()\n",
    "genres_avgvotes_1 = pd.DataFrame(top_1.groupby('genres')['numvotes'].mean().sort_values(ascending=False))\n",
    "genres_avgvotes_1 = genres_avgvotes_1.reset_index()\n",
    "genres_avgvotes_1 = genres_avgvotes_1[genres_avgvotes_1['genres'].isin(['Drama','Comedy','Action','Sci-Fi','Adventure'])]\n",
    "genres_avgvotes_1.set_index('genres', inplace=True)\n",
    "top1 = genres_count_1.join(genres_avgvotes_1)\n",
    "top1.rename(columns={'genres':'movie counts'}, inplace=True)\n",
    "top1 = top1.reset_index().rename(columns={'index':'movie genre'})\n",
    "top1"
   ]
  },
  {
   "cell_type": "code",
   "execution_count": null,
   "metadata": {},
   "outputs": [],
   "source": [
    "## Two separate bar graphs of top 1 percentile(number of votes) movie genre data\n",
    "\n",
    "def change_width(ax, new_value) :\n",
    "    for patch in ax.patches :\n",
    "        current_width = patch.get_width()\n",
    "        diff = current_width - new_value\n",
    "        patch.set_width(new_value)\n",
    "        patch.set_x(patch.get_x() + diff * .5)\n",
    "\n",
    "fig, (ax1, ax2) = plt.subplots(figsize=(13,6), ncols=2, dpi=200)\n",
    "\n",
    "x=top10['movie genre']\n",
    "y=top10['movie counts']\n",
    "y1=top10['numvotes']\n",
    "clrs=['grey' if (x != 'Action' and x != 'Adventure') else 'red' for x in x]\n",
    "\n",
    "sns.barplot(x=x, y=y, palette=clrs, ax=ax1)\n",
    "ax1.set_title('Number of Movies in Each Genre', fontweight='bold', fontsize=15)\n",
    "ax1.set_xlabel('Movie Genres', fontweight='bold', fontsize=12)\n",
    "ax1.set_ylabel('Movie Counts', fontweight='bold', fontsize=12)\n",
    "change_width(ax1, 0.7)\n",
    "\n",
    "sns.barplot(x=x, y=y1, palette=clrs, ax=ax2)\n",
    "ax2.set_title('Average Vote Counts', fontweight='bold', fontsize=15)\n",
    "ax2.set_xlabel('Movie Genres', fontweight='bold', fontsize=12)\n",
    "ax2.set_ylabel('Vote Counts', fontweight='bold', fontsize=12);\n",
    "change_width(ax2, 0.7)\n",
    "\n",
    "plt.subplots_adjust(wspace=.3)\n",
    "\n",
    "fig.suptitle(\"Top Ten Percentile in Vote Counts\", fontweight='bold', fontsize=20);"
   ]
  },
  {
   "cell_type": "markdown",
   "metadata": {},
   "source": [
    "**Observations & Insights:**\n",
    "<ul>\n",
    "    <li> From the IMDB dataset, we have extracted the top ten quantiles of the movie rating vote counts.\n",
    "    <li> Although drama and comedy movies are more prevalent in the top ten quantiles, action and adventure movies have much higher average vote counts.\n",
    "    <li> This indicates that as we move up to the higher quantile in vote counts, the number of action and adventure movies grows.\n",
    "</ul>"
   ]
  },
  {
   "cell_type": "code",
   "execution_count": null,
   "metadata": {
    "scrolled": false
   },
   "outputs": [],
   "source": [
    "## Two separate bar graphs of top 1 percentile(number of votes) movie genre data\n",
    "\n",
    "def change_width(ax, new_value) :\n",
    "    for patch in ax.patches :\n",
    "        current_width = patch.get_width()\n",
    "        diff = current_width - new_value\n",
    "        patch.set_width(new_value)\n",
    "        patch.set_x(patch.get_x() + diff * .5)\n",
    "\n",
    "fig, (ax1, ax2) = plt.subplots(figsize=(13,6), ncols=2, dpi=200)\n",
    "\n",
    "xx=top1['movie genre']\n",
    "yy=top1['movie counts']\n",
    "y2=top1['numvotes']\n",
    "clrs=['grey' if (x != 'Action' and x != 'Adventure') else 'red' for x in top1['movie genre']]\n",
    "\n",
    "sns.barplot(x=xx, y=yy, palette=clrs, ax=ax1)\n",
    "ax1.set_title('Number of Movies in Each Genre', fontweight='bold', fontsize=15)\n",
    "ax1.set_xlabel('Movie Genres', fontweight='bold', fontsize=12)\n",
    "ax1.set_ylabel('Movie Counts', fontweight='bold', fontsize=12)\n",
    "change_width(ax1, 0.7)\n",
    "\n",
    "sns.barplot(x=xx, y=y2, palette=clrs, ax=ax2)\n",
    "ax2.set_title('Average Vote Counts', fontweight='bold', fontsize=15)\n",
    "ax2.set_xlabel('Movie Genres', fontweight='bold', fontsize=12)\n",
    "ax2.set_ylabel('Vote Counts', fontweight='bold', fontsize=12);\n",
    "change_width(ax2, 0.7)\n",
    "\n",
    "plt.subplots_adjust(wspace=.3)\n",
    "\n",
    "fig.suptitle(\"Top One Percentile in Vote Counts\", fontweight='bold', fontsize=20);"
   ]
  },
  {
   "cell_type": "markdown",
   "metadata": {},
   "source": [
    "**Final Observations & Insights:**\n",
    "<ul>\n",
    "    <li> As seen in the previous graph, this top one quantile visualization confirms that as we move up to datas in the higher quantile, number of action and adventure movies increases.\n",
    "    <li> Despite the fact that all the movies here in this data were in the top one percentile, adventure and action movies had second and third most average vote counts.## conclusion\n",
    "I believe the focus of resources should be centered towards action, adventure, fantasy,sci-fi, comedy and animated movies. While animated has the highest rating the other 5 categories have higher volumes of consumer interaction."
   ]
  },
  {
   "cell_type": "markdown",
   "metadata": {},
   "source": [
    "----"
   ]
  },
  {
   "cell_type": "markdown",
   "metadata": {},
   "source": [
    "# Conclusions\n",
    "<ul></ul>\n",
    "<li>\n",
    "<li>"
   ]
  }
 ],
 "metadata": {
  "kernelspec": {
   "display_name": "Python (learn-env)",
   "language": "python",
   "name": "learn-env"
  },
  "language_info": {
   "codemirror_mode": {
    "name": "ipython",
    "version": 3
   },
   "file_extension": ".py",
   "mimetype": "text/x-python",
   "name": "python",
   "nbconvert_exporter": "python",
   "pygments_lexer": "ipython3",
   "version": "3.8.5"
  }
 },
 "nbformat": 4,
 "nbformat_minor": 4
}
